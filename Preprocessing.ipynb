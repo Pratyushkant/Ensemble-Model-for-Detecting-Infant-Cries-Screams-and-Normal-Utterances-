{
 "cells": [
  {
   "cell_type": "markdown",
   "metadata": {},
   "source": [
    "# Data Preprocessing"
   ]
  },
  {
   "cell_type": "code",
   "execution_count": 1,
   "metadata": {},
   "outputs": [],
   "source": [
    "import os\n",
    "os.environ[\"TF_ENABLE_ONEDNN_OPTS\"] = \"0\""
   ]
  },
  {
   "cell_type": "code",
   "execution_count": 2,
   "metadata": {},
   "outputs": [],
   "source": [
    "crying_dataset = \"Dataset/Cry_Datasets\"\n",
    "screaming_dataset = \"Dataset/Screaming_Datasets\"\n",
    "normal_utterance_datasets = \"Dataset/Normal_Utterances_Datasets\""
   ]
  },
  {
   "cell_type": "code",
   "execution_count": 3,
   "metadata": {},
   "outputs": [
    {
     "name": "stdout",
     "output_type": "stream",
     "text": [
      "File counts in each dataset:\n",
      "Dataset/Cry_Datasets: 514 files\n",
      "Dataset/Screaming_Datasets: 862 files\n",
      "Dataset/Normal_Utterances_Datasets: 40707 files\n",
      "\n",
      "No files with the same name found.\n",
      "\n",
      "Percentage of files removed:\n",
      "Dataset/Cry_Datasets: 1.15% removed\n",
      "Dataset/Screaming_Datasets: 0.00% removed\n",
      "Dataset/Normal_Utterances_Datasets: 0.00% removed\n"
     ]
    }
   ],
   "source": [
    "import os\n",
    "\n",
    "def count_files_and_find_same_names(*dirs):\n",
    "    file_counts = {}\n",
    "    initial_counts = {}\n",
    "    file_names = {}\n",
    "    same_names = set()\n",
    "    \n",
    "    for directory in dirs:\n",
    "        if not os.path.exists(directory):\n",
    "            print(f\"Warning: {directory} does not exist.\")\n",
    "            continue\n",
    "        \n",
    "        all_files = os.listdir(directory)\n",
    "        initial_counts[directory] = len(all_files)\n",
    "        files = set(f for f in all_files if f.endswith((\".wav\", \".mp3\")))\n",
    "        file_counts[directory] = len(files)\n",
    "        \n",
    "        for file in files:\n",
    "            if file in file_names:\n",
    "                same_names.add(file)\n",
    "            file_names[file] = file_names.get(file, []) + [directory]\n",
    "    \n",
    "    removed_percentage = {\n",
    "        directory: ((initial_counts[directory] - file_counts[directory]) / initial_counts[directory] * 100) if initial_counts[directory] > 0 else 0\n",
    "        for directory in dirs\n",
    "    }\n",
    "    \n",
    "    return file_counts, same_names, file_names, removed_percentage\n",
    "\n",
    "# Get file counts, same names, and removed percentage\n",
    "file_counts, same_names, file_names, removed_percentage = count_files_and_find_same_names(\n",
    "    crying_dataset, screaming_dataset, normal_utterance_datasets\n",
    ")\n",
    "\n",
    "# Print results\n",
    "print(\"File counts in each dataset:\")\n",
    "for dataset, count in file_counts.items():\n",
    "    print(f\"{dataset}: {count} files\")\n",
    "\n",
    "if same_names:\n",
    "    print(\"\\nFiles with the same name found:\")\n",
    "    for name in same_names:\n",
    "        print(f\"{name}: Present in {file_names[name]}\")\n",
    "else:\n",
    "    print(\"\\nNo files with the same name found.\")\n",
    "\n",
    "print(\"\\nPercentage of files removed:\")\n",
    "for dataset, percentage in removed_percentage.items():\n",
    "    print(f\"{dataset}: {percentage:.2f}% removed\")\n"
   ]
  },
  {
   "cell_type": "code",
   "execution_count": 4,
   "metadata": {},
   "outputs": [
    {
     "name": "stderr",
     "output_type": "stream",
     "text": [
      "Processing crying dataset in batches:   0%|          | 0/11 [00:00<?, ?it/s]/home/pratyush/miniconda3/envs/tf_env/lib/python3.10/site-packages/scipy/signal/_signaltools.py:1659: RuntimeWarning: divide by zero encountered in divide\n",
      "  res *= (1 - noise / lVar)\n",
      "/home/pratyush/miniconda3/envs/tf_env/lib/python3.10/site-packages/scipy/signal/_signaltools.py:1659: RuntimeWarning: invalid value encountered in multiply\n",
      "  res *= (1 - noise / lVar)\n",
      "Processing crying dataset in batches: 100%|██████████| 11/11 [00:04<00:00,  2.25it/s]\n",
      "Processing screaming dataset in batches: 100%|██████████| 18/18 [00:17<00:00,  1.06it/s]\n",
      "Processing normal dataset in batches: 100%|██████████| 815/815 [09:03<00:00,  1.50it/s]\n"
     ]
    },
    {
     "name": "stdout",
     "output_type": "stream",
     "text": [
      "Class Weights: {'crying': 1.0, 'screaming': 1.0, 'normal': 1.0}\n",
      "Total data points: 4470\n",
      "Class distribution: {'crying': 1490, 'screaming': 1490, 'normal': 1490}\n"
     ]
    },
    {
     "data": {
      "image/png": "[encoded data removed]",
      "text/plain": [
       "<Figure size 800x600 with 1 Axes>"
      ]
     },
     "metadata": {},
     "output_type": "display_data"
    }
   ],
   "source": [
    "import os\n",
    "import librosa\n",
    "import numpy as np\n",
    "import pandas as pd\n",
    "import matplotlib.pyplot as plt\n",
    "from scipy.signal import wiener\n",
    "from scipy.ndimage import gaussian_filter1d\n",
    "import soundfile as sf\n",
    "from tqdm import tqdm\n",
    "\n",
    "output_dir = \"Processed_Audio\"\n",
    "csv_file = \"processed_audio_metadata.csv\"\n",
    "\n",
    "if not os.path.exists(output_dir):\n",
    "    os.makedirs(output_dir)\n",
    "\n",
    "def preprocess_audio(file_path, target_sr=16000):\n",
    "    \"\"\"Load audio with consistent sampling rate and in mono.\"\"\"\n",
    "    audio, sr = librosa.load(file_path, sr=target_sr, mono=True)\n",
    "    return audio\n",
    "\n",
    "def segment_audio(audio, segment_length=2, sr=16000):\n",
    "    \"\"\"Segment audio into fixed-length segments (in seconds).\"\"\"\n",
    "    segment_samples = segment_length * sr\n",
    "    segments = []\n",
    "    for i in range(0, len(audio), segment_samples):\n",
    "        seg = audio[i:i + segment_samples]\n",
    "        if len(seg) == segment_samples:\n",
    "            segments.append(seg)\n",
    "    return segments\n",
    "\n",
    "def advanced_preprocess(segment, sr=16000):\n",
    "    \"\"\"Apply advanced preprocessing:\n",
    "       - Noise removal using a Wiener filter (with small epsilon in denominator to avoid division by zero)\n",
    "       - Gaussian smoothing\n",
    "       - Normalize the audio to [-1, 1]\"\"\"\n",
    "    epsilon = 1e-6\n",
    "    if len(segment) > 1:  # Wiener filter requires at least 2 samples\n",
    "        try:\n",
    "            segment = wiener(segment, noise=epsilon)\n",
    "        except ValueError:\n",
    "            pass  # Keep original if Wiener fails\n",
    "    segment = gaussian_filter1d(segment, sigma=1)\n",
    "    max_val = np.max(np.abs(segment))\n",
    "    if max_val > 0:\n",
    "        segment = segment / max_val\n",
    "    return segment\n",
    "\n",
    "def process_dataset_in_batches(dataset_path, label, sr=16000, batch_size=50):\n",
    "    \"\"\"Process files in batches to prevent crashes and save results to disk.\"\"\"\n",
    "    files = [f for f in os.listdir(dataset_path) if f.endswith(('.wav', '.mp3'))]\n",
    "    metadata = []\n",
    "    for batch_start in tqdm(range(0, len(files), batch_size), desc=f\"Processing {label} dataset in batches\"):\n",
    "        batch_files = files[batch_start:batch_start + batch_size]\n",
    "        for file in batch_files:\n",
    "            file_path = os.path.join(dataset_path, file)\n",
    "            audio = preprocess_audio(file_path, sr)\n",
    "            segments = segment_audio(audio, sr=sr)\n",
    "            for idx, seg in enumerate(segments):\n",
    "                seg = advanced_preprocess(seg, sr)\n",
    "                file_id = f\"{os.path.splitext(file)[0]}_seg{idx}\"\n",
    "                filename = f\"{file_id}.wav\"\n",
    "                filepath = os.path.join(output_dir, filename)\n",
    "                sf.write(filepath, seg, sr)  # Save processed segment\n",
    "                metadata.append({'file_name': filename, 'label': label})\n",
    "    return metadata\n",
    "\n",
    "# Process datasets\n",
    "crying_metadata = process_dataset_in_batches(\"Dataset/Cry_Datasets\", 'crying')\n",
    "screaming_metadata = process_dataset_in_batches(\"Dataset/Screaming_Datasets\", 'screaming')\n",
    "normal_metadata = process_dataset_in_batches(\"Dataset/Normal_Utterances_Datasets\", 'normal')\n",
    "\n",
    "# Find the minimum count among all classes\n",
    "min_count = min(len(crying_metadata), len(screaming_metadata), len(normal_metadata))\n",
    "\n",
    "# Downsample the datasets by keeping the first `min_count` elements\n",
    "crying_metadata = crying_metadata[:min_count]\n",
    "screaming_metadata = screaming_metadata[:min_count]\n",
    "normal_metadata = normal_metadata[:min_count]\n",
    "\n",
    "# Combine metadata\n",
    "final_metadata = crying_metadata + screaming_metadata + normal_metadata\n",
    "\n",
    "# Compute class weights\n",
    "def compute_class_weights(metadata):\n",
    "    \"\"\"Compute class weights based on the inverse frequency of each class.\"\"\"\n",
    "    class_counts = {}\n",
    "    for item in metadata:\n",
    "        label = item['label']\n",
    "        class_counts[label] = class_counts.get(label, 0) + 1\n",
    "    total_samples = sum(class_counts.values())\n",
    "    class_weights = {label: total_samples / (len(class_counts) * count) for label, count in class_counts.items()}\n",
    "    return class_weights\n",
    "\n",
    "class_weights = compute_class_weights(final_metadata)\n",
    "print(\"Class Weights:\", class_weights)\n",
    "\n",
    "# Report data statistics\n",
    "print(\"Total data points:\", len(final_metadata))\n",
    "class_counts = {\n",
    "    'crying': len(crying_metadata),\n",
    "    'screaming': len(screaming_metadata),\n",
    "    'normal': len(normal_metadata)\n",
    "}\n",
    "print(\"Class distribution:\", class_counts)\n",
    "\n",
    "# Save metadata to CSV\n",
    "df = pd.DataFrame(final_metadata)\n",
    "df.to_csv(csv_file, index=False)\n",
    "\n",
    "# Plot histogram of class distribution\n",
    "plt.figure(figsize=(8,6))\n",
    "plt.bar(class_counts.keys(), class_counts.values(), color=['red', 'blue', 'green'])\n",
    "plt.xlabel(\"Class\")\n",
    "plt.ylabel(\"Number of samples\")\n",
    "plt.title(\"Class Distribution\")\n",
    "plt.show()"
   ]
  },
  {
   "cell_type": "code",
   "execution_count": 5,
   "metadata": {},
   "outputs": [
    {
     "name": "stderr",
     "output_type": "stream",
     "text": [
      "Copying files to train: 100%|██████████| 3129/3129 [00:01<00:00, 1704.48it/s]\n",
      "Copying files to val: 100%|██████████| 670/670 [00:00<00:00, 786.32it/s] \n",
      "Copying files to test: 100%|██████████| 671/671 [00:00<00:00, 1327.61it/s]"
     ]
    },
    {
     "name": "stdout",
     "output_type": "stream",
     "text": [
      "Data successfully split into train, validation, and test sets.\n"
     ]
    },
    {
     "name": "stderr",
     "output_type": "stream",
     "text": [
      "\n"
     ]
    }
   ],
   "source": [
    "from sklearn.model_selection import train_test_split\n",
    "from tqdm import tqdm\n",
    "import shutil\n",
    "\n",
    "# Path to the metadata CSV and the processed audio folder\n",
    "metadata_csv = \"processed_audio_metadata.csv\"\n",
    "source_dir = \"Processed_Audio\"\n",
    "\n",
    "# Load the metadata CSV\n",
    "df = pd.read_csv(metadata_csv)\n",
    "\n",
    "# Perform stratified split:\n",
    "#   - First split into train (70%) and temp (30%)\n",
    "#   - Then split temp equally into validation (15%) and test (15%)\n",
    "train_df, temp_df = train_test_split(df, test_size=0.3, stratify=df['label'], random_state=42)\n",
    "val_df, test_df = train_test_split(temp_df, test_size=0.5, stratify=temp_df['label'], random_state=42)\n",
    "\n",
    "# Create output directories for splits\n",
    "base_output_dir = \"Split_Data\"\n",
    "for split in [\"train\", \"val\", \"test\"]:\n",
    "    os.makedirs(os.path.join(base_output_dir, split), exist_ok=True)\n",
    "\n",
    "train_dir = os.path.join(base_output_dir, \"train\")\n",
    "val_dir = os.path.join(base_output_dir, \"val\")\n",
    "test_dir = os.path.join(base_output_dir, \"test\")\n",
    "\n",
    "# Function to copy audio files to the appropriate folder\n",
    "def copy_files(split_df, destination):\n",
    "    for _, row in tqdm(split_df.iterrows(), total=len(split_df), desc=f\"Copying files to {os.path.basename(destination)}\"):\n",
    "        file_name = row['file_name']\n",
    "        src = os.path.join(source_dir, file_name)\n",
    "        dst = os.path.join(destination, file_name)\n",
    "        if os.path.exists(src):\n",
    "            shutil.copy(src, dst)\n",
    "        else:\n",
    "            print(f\"Warning: {src} not found.\")\n",
    "\n",
    "# Copy files for each split\n",
    "copy_files(train_df, train_dir)\n",
    "copy_files(val_df, val_dir)\n",
    "copy_files(test_df, test_dir)\n",
    "\n",
    "# Save metadata CSVs for each split\n",
    "train_df.to_csv(os.path.join(base_output_dir, \"train_metadata.csv\"), index=False)\n",
    "val_df.to_csv(os.path.join(base_output_dir, \"val_metadata.csv\"), index=False)\n",
    "test_df.to_csv(os.path.join(base_output_dir, \"test_metadata.csv\"), index=False)\n",
    "\n",
    "print(\"Data successfully split into train, validation, and test sets.\")"
   ]
  }
 ],
 "metadata": {
  "kernelspec": {
   "display_name": "tf_env",
   "language": "python",
   "name": "python3"
  },
  "language_info": {
   "codemirror_mode": {
    "name": "ipython",
    "version": 3
   },
   "file_extension": ".py",
   "mimetype": "text/x-python",
   "name": "python",
   "nbconvert_exporter": "python",
   "pygments_lexer": "ipython3",
   "version": "3.10.16"
  }
 },
 "nbformat": 4,
 "nbformat_minor": 2
}
