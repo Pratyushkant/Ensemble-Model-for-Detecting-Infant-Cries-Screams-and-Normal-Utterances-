{
 "cells": [
  {
   "cell_type": "code",
   "execution_count": 1,
   "metadata": {},
   "outputs": [],
   "source": [
    "!export PYTORCH_CUDA_ALLOC_CONF=\"expandable_segments:True\""
   ]
  },
  {
   "cell_type": "code",
   "execution_count": 2,
   "metadata": {},
   "outputs": [
    {
     "name": "stdout",
     "output_type": "stream",
     "text": [
      "Enabling notebook extension jupyter-js-widgets/extension...\n",
      "      - Validating: problems found:\n",
      "        - require? \u001b[31m X\u001b[0m jupyter-js-widgets/extension\n"
     ]
    }
   ],
   "source": [
    "!jupyter nbextension enable --py widgetsnbextension"
   ]
  },
  {
   "cell_type": "code",
   "execution_count": 3,
   "metadata": {},
   "outputs": [],
   "source": [
    "!export TF_CPP_MIN_LOG_LEVEL=2"
   ]
  },
  {
   "cell_type": "code",
   "execution_count": 4,
   "metadata": {},
   "outputs": [],
   "source": [
    "import gc, torch\n",
    "gc.collect()\n",
    "torch.cuda.empty_cache()"
   ]
  },
  {
   "cell_type": "code",
   "execution_count": 5,
   "metadata": {},
   "outputs": [
    {
     "name": "stdout",
     "output_type": "stream",
     "text": [
      "Initializing YAMNet classifier...\n",
      "\n",
      "Preparing datasets with augmentation...\n",
      "Loading metadata from Split_Data/train_metadata.csv\n",
      "Loaded 3129 entries from metadata\n"
     ]
    },
    {
     "data": {
      "application/vnd.jupyter.widget-view+json": {
       "model_id": "54703f327d1d4a4faa9c342f1265b516",
       "version_major": 2,
       "version_minor": 0
      },
      "text/plain": [
       "Loading audio files:   0%|          | 0/3129 [00:00<?, ?it/s]"
      ]
     },
     "metadata": {},
     "output_type": "display_data"
    },
    {
     "name": "stdout",
     "output_type": "stream",
     "text": [
      "Created dataset with 6258 examples\n",
      "\n",
      "Starting k-fold cross validation training...\n",
      "\n",
      "Training Fold 1/5\n"
     ]
    },
    {
     "data": {
      "application/vnd.jupyter.widget-view+json": {
       "model_id": "2984eb7817b44bfab099471a73dc39a3",
       "version_major": 2,
       "version_minor": 0
      },
      "text/plain": [
       "Training:   0%|          | 0/626 [00:00<?, ?it/s]"
      ]
     },
     "metadata": {},
     "output_type": "display_data"
    },
    {
     "data": {
      "application/vnd.jupyter.widget-view+json": {
       "model_id": "3f8e954dd8954a239f36fcc74191bb3e",
       "version_major": 2,
       "version_minor": 0
      },
      "text/plain": [
       "Evaluating:   0%|          | 0/157 [00:00<?, ?it/s]"
      ]
     },
     "metadata": {},
     "output_type": "display_data"
    },
    {
     "name": "stdout",
     "output_type": "stream",
     "text": [
      "Epoch 1: Train Loss: 0.8252, Val Loss: 0.6886, Val Acc: 0.6917\n"
     ]
    },
    {
     "data": {
      "application/vnd.jupyter.widget-view+json": {
       "model_id": "4d7f13ee4e2f4b50805715c7fa080f17",
       "version_major": 2,
       "version_minor": 0
      },
      "text/plain": [
       "Training:   0%|          | 0/626 [00:00<?, ?it/s]"
      ]
     },
     "metadata": {},
     "output_type": "display_data"
    },
    {
     "data": {
      "application/vnd.jupyter.widget-view+json": {
       "model_id": "e6d1c6a54197425aa6d41c6d0b31e29b",
       "version_major": 2,
       "version_minor": 0
      },
      "text/plain": [
       "Evaluating:   0%|          | 0/157 [00:00<?, ?it/s]"
      ]
     },
     "metadata": {},
     "output_type": "display_data"
    },
    {
     "name": "stdout",
     "output_type": "stream",
     "text": [
      "Epoch 2: Train Loss: 0.7177, Val Loss: 0.6285, Val Acc: 0.7364\n"
     ]
    },
    {
     "data": {
      "application/vnd.jupyter.widget-view+json": {
       "model_id": "b5bbf15196604936ae5e8a582d315012",
       "version_major": 2,
       "version_minor": 0
      },
      "text/plain": [
       "Training:   0%|          | 0/626 [00:00<?, ?it/s]"
      ]
     },
     "metadata": {},
     "output_type": "display_data"
    },
    {
     "data": {
      "application/vnd.jupyter.widget-view+json": {
       "model_id": "f6dacf4161c74938a552fab0c5e8376e",
       "version_major": 2,
       "version_minor": 0
      },
      "text/plain": [
       "Evaluating:   0%|          | 0/157 [00:00<?, ?it/s]"
      ]
     },
     "metadata": {},
     "output_type": "display_data"
    },
    {
     "name": "stdout",
     "output_type": "stream",
     "text": [
      "Epoch 3: Train Loss: 0.6596, Val Loss: 0.5601, Val Acc: 0.7796\n"
     ]
    },
    {
     "data": {
      "application/vnd.jupyter.widget-view+json": {
       "model_id": "491887280f0144b38c57b1d3fdaa9e77",
       "version_major": 2,
       "version_minor": 0
      },
      "text/plain": [
       "Training:   0%|          | 0/626 [00:00<?, ?it/s]"
      ]
     },
     "metadata": {},
     "output_type": "display_data"
    },
    {
     "data": {
      "application/vnd.jupyter.widget-view+json": {
       "model_id": "fe31045d7b8243d3be557388fcc841ca",
       "version_major": 2,
       "version_minor": 0
      },
      "text/plain": [
       "Evaluating:   0%|          | 0/157 [00:00<?, ?it/s]"
      ]
     },
     "metadata": {},
     "output_type": "display_data"
    },
    {
     "name": "stdout",
     "output_type": "stream",
     "text": [
      "Epoch 4: Train Loss: 0.6178, Val Loss: 0.5715, Val Acc: 0.7436\n"
     ]
    },
    {
     "data": {
      "application/vnd.jupyter.widget-view+json": {
       "model_id": "93c6675935f04c36b155aa7edff1ce60",
       "version_major": 2,
       "version_minor": 0
      },
      "text/plain": [
       "Training:   0%|          | 0/626 [00:00<?, ?it/s]"
      ]
     },
     "metadata": {},
     "output_type": "display_data"
    },
    {
     "data": {
      "application/vnd.jupyter.widget-view+json": {
       "model_id": "54ac5ce5b1e54ee0b97452e72389810f",
       "version_major": 2,
       "version_minor": 0
      },
      "text/plain": [
       "Evaluating:   0%|          | 0/157 [00:00<?, ?it/s]"
      ]
     },
     "metadata": {},
     "output_type": "display_data"
    },
    {
     "name": "stdout",
     "output_type": "stream",
     "text": [
      "Epoch 5: Train Loss: 0.5885, Val Loss: 0.6099, Val Acc: 0.7141\n"
     ]
    },
    {
     "data": {
      "application/vnd.jupyter.widget-view+json": {
       "model_id": "601bb891ac074729a81b254522364d91",
       "version_major": 2,
       "version_minor": 0
      },
      "text/plain": [
       "Training:   0%|          | 0/626 [00:00<?, ?it/s]"
      ]
     },
     "metadata": {},
     "output_type": "display_data"
    },
    {
     "data": {
      "application/vnd.jupyter.widget-view+json": {
       "model_id": "32a50bbab3dc4f7ca28d60ff6a9bed55",
       "version_major": 2,
       "version_minor": 0
      },
      "text/plain": [
       "Evaluating:   0%|          | 0/157 [00:00<?, ?it/s]"
      ]
     },
     "metadata": {},
     "output_type": "display_data"
    },
    {
     "name": "stdout",
     "output_type": "stream",
     "text": [
      "Epoch 6: Train Loss: 0.5648, Val Loss: 0.4834, Val Acc: 0.8083\n"
     ]
    },
    {
     "data": {
      "application/vnd.jupyter.widget-view+json": {
       "model_id": "1e32674789be45d0928aba4a8b0c9910",
       "version_major": 2,
       "version_minor": 0
      },
      "text/plain": [
       "Training:   0%|          | 0/626 [00:00<?, ?it/s]"
      ]
     },
     "metadata": {},
     "output_type": "display_data"
    },
    {
     "data": {
      "application/vnd.jupyter.widget-view+json": {
       "model_id": "80f8c31b9533406a9f8df9b41ff36557",
       "version_major": 2,
       "version_minor": 0
      },
      "text/plain": [
       "Evaluating:   0%|          | 0/157 [00:00<?, ?it/s]"
      ]
     },
     "metadata": {},
     "output_type": "display_data"
    },
    {
     "name": "stdout",
     "output_type": "stream",
     "text": [
      "Epoch 7: Train Loss: 0.5432, Val Loss: 0.5604, Val Acc: 0.7380\n"
     ]
    },
    {
     "data": {
      "application/vnd.jupyter.widget-view+json": {
       "model_id": "312943186d64427c8563418392b00c9e",
       "version_major": 2,
       "version_minor": 0
      },
      "text/plain": [
       "Training:   0%|          | 0/626 [00:00<?, ?it/s]"
      ]
     },
     "metadata": {},
     "output_type": "display_data"
    },
    {
     "data": {
      "application/vnd.jupyter.widget-view+json": {
       "model_id": "f99beb82dac54da2b904c2e4de44af11",
       "version_major": 2,
       "version_minor": 0
      },
      "text/plain": [
       "Evaluating:   0%|          | 0/157 [00:00<?, ?it/s]"
      ]
     },
     "metadata": {},
     "output_type": "display_data"
    },
    {
     "name": "stdout",
     "output_type": "stream",
     "text": [
      "Epoch 8: Train Loss: 0.5254, Val Loss: 0.4781, Val Acc: 0.8075\n"
     ]
    },
    {
     "data": {
      "application/vnd.jupyter.widget-view+json": {
       "model_id": "6e28d18693c34178a732579a112420df",
       "version_major": 2,
       "version_minor": 0
      },
      "text/plain": [
       "Training:   0%|          | 0/626 [00:00<?, ?it/s]"
      ]
     },
     "metadata": {},
     "output_type": "display_data"
    },
    {
     "data": {
      "application/vnd.jupyter.widget-view+json": {
       "model_id": "240a62a856a74cabba52baf07a14650b",
       "version_major": 2,
       "version_minor": 0
      },
      "text/plain": [
       "Evaluating:   0%|          | 0/157 [00:00<?, ?it/s]"
      ]
     },
     "metadata": {},
     "output_type": "display_data"
    },
    {
     "name": "stdout",
     "output_type": "stream",
     "text": [
      "Epoch 9: Train Loss: 0.5073, Val Loss: 0.4564, Val Acc: 0.8179\n"
     ]
    },
    {
     "data": {
      "application/vnd.jupyter.widget-view+json": {
       "model_id": "146f6b0a89f64432a30abead835c4678",
       "version_major": 2,
       "version_minor": 0
      },
      "text/plain": [
       "Training:   0%|          | 0/626 [00:00<?, ?it/s]"
      ]
     },
     "metadata": {},
     "output_type": "display_data"
    },
    {
     "data": {
      "application/vnd.jupyter.widget-view+json": {
       "model_id": "ba73db250ee0419286610950d547cd1c",
       "version_major": 2,
       "version_minor": 0
      },
      "text/plain": [
       "Evaluating:   0%|          | 0/157 [00:00<?, ?it/s]"
      ]
     },
     "metadata": {},
     "output_type": "display_data"
    },
    {
     "name": "stdout",
     "output_type": "stream",
     "text": [
      "Epoch 10: Train Loss: 0.5073, Val Loss: 0.4394, Val Acc: 0.8235\n"
     ]
    },
    {
     "data": {
      "application/vnd.jupyter.widget-view+json": {
       "model_id": "8b4b6bb5854a4dfba07bb6f4552715ac",
       "version_major": 2,
       "version_minor": 0
      },
      "text/plain": [
       "Training:   0%|          | 0/626 [00:00<?, ?it/s]"
      ]
     },
     "metadata": {},
     "output_type": "display_data"
    },
    {
     "data": {
      "application/vnd.jupyter.widget-view+json": {
       "model_id": "3a87c77b31e24fa398e5828a5ae557fe",
       "version_major": 2,
       "version_minor": 0
      },
      "text/plain": [
       "Evaluating:   0%|          | 0/157 [00:00<?, ?it/s]"
      ]
     },
     "metadata": {},
     "output_type": "display_data"
    },
    {
     "name": "stdout",
     "output_type": "stream",
     "text": [
      "Epoch 11: Train Loss: 0.4837, Val Loss: 0.5217, Val Acc: 0.7796\n"
     ]
    },
    {
     "data": {
      "application/vnd.jupyter.widget-view+json": {
       "model_id": "97407401570b45b0972ab4ffb403de01",
       "version_major": 2,
       "version_minor": 0
      },
      "text/plain": [
       "Training:   0%|          | 0/626 [00:00<?, ?it/s]"
      ]
     },
     "metadata": {},
     "output_type": "display_data"
    },
    {
     "data": {
      "application/vnd.jupyter.widget-view+json": {
       "model_id": "2f331b5821ce4259aab6bd389b6f61bd",
       "version_major": 2,
       "version_minor": 0
      },
      "text/plain": [
       "Evaluating:   0%|          | 0/157 [00:00<?, ?it/s]"
      ]
     },
     "metadata": {},
     "output_type": "display_data"
    },
    {
     "name": "stdout",
     "output_type": "stream",
     "text": [
      "Epoch 12: Train Loss: 0.4841, Val Loss: 0.4273, Val Acc: 0.8458\n"
     ]
    },
    {
     "data": {
      "application/vnd.jupyter.widget-view+json": {
       "model_id": "863f40520b1e40eeaaa837d698f2a739",
       "version_major": 2,
       "version_minor": 0
      },
      "text/plain": [
       "Training:   0%|          | 0/626 [00:00<?, ?it/s]"
      ]
     },
     "metadata": {},
     "output_type": "display_data"
    },
    {
     "data": {
      "application/vnd.jupyter.widget-view+json": {
       "model_id": "0308bc7f2d66405c976a0586406ee8da",
       "version_major": 2,
       "version_minor": 0
      },
      "text/plain": [
       "Evaluating:   0%|          | 0/157 [00:00<?, ?it/s]"
      ]
     },
     "metadata": {},
     "output_type": "display_data"
    },
    {
     "name": "stdout",
     "output_type": "stream",
     "text": [
      "Epoch 13: Train Loss: 0.4645, Val Loss: 0.4166, Val Acc: 0.8259\n"
     ]
    },
    {
     "data": {
      "application/vnd.jupyter.widget-view+json": {
       "model_id": "df579a80d33f4512be907fe1a99f98d3",
       "version_major": 2,
       "version_minor": 0
      },
      "text/plain": [
       "Training:   0%|          | 0/626 [00:00<?, ?it/s]"
      ]
     },
     "metadata": {},
     "output_type": "display_data"
    },
    {
     "data": {
      "application/vnd.jupyter.widget-view+json": {
       "model_id": "f65088025e5443c8984a4b82cec237e1",
       "version_major": 2,
       "version_minor": 0
      },
      "text/plain": [
       "Evaluating:   0%|          | 0/157 [00:00<?, ?it/s]"
      ]
     },
     "metadata": {},
     "output_type": "display_data"
    },
    {
     "name": "stdout",
     "output_type": "stream",
     "text": [
      "Epoch 14: Train Loss: 0.4657, Val Loss: 0.4683, Val Acc: 0.7979\n"
     ]
    },
    {
     "data": {
      "application/vnd.jupyter.widget-view+json": {
       "model_id": "503849ff84b04b6b8bc7431aed23429b",
       "version_major": 2,
       "version_minor": 0
      },
      "text/plain": [
       "Training:   0%|          | 0/626 [00:00<?, ?it/s]"
      ]
     },
     "metadata": {},
     "output_type": "display_data"
    },
    {
     "data": {
      "application/vnd.jupyter.widget-view+json": {
       "model_id": "cce71e24eb9749159fd38679acb67d49",
       "version_major": 2,
       "version_minor": 0
      },
      "text/plain": [
       "Evaluating:   0%|          | 0/157 [00:00<?, ?it/s]"
      ]
     },
     "metadata": {},
     "output_type": "display_data"
    },
    {
     "name": "stdout",
     "output_type": "stream",
     "text": [
      "Epoch 15: Train Loss: 0.4555, Val Loss: 0.4318, Val Acc: 0.8283\n"
     ]
    },
    {
     "data": {
      "application/vnd.jupyter.widget-view+json": {
       "model_id": "36726e4c5f8d4876854166b8d0340789",
       "version_major": 2,
       "version_minor": 0
      },
      "text/plain": [
       "Training:   0%|          | 0/626 [00:00<?, ?it/s]"
      ]
     },
     "metadata": {},
     "output_type": "display_data"
    },
    {
     "data": {
      "application/vnd.jupyter.widget-view+json": {
       "model_id": "69e193aacaa24e5eaa9f2d85b0dc972b",
       "version_major": 2,
       "version_minor": 0
      },
      "text/plain": [
       "Evaluating:   0%|          | 0/157 [00:00<?, ?it/s]"
      ]
     },
     "metadata": {},
     "output_type": "display_data"
    },
    {
     "name": "stdout",
     "output_type": "stream",
     "text": [
      "Epoch 16: Train Loss: 0.4492, Val Loss: 0.4082, Val Acc: 0.8315\n"
     ]
    },
    {
     "data": {
      "application/vnd.jupyter.widget-view+json": {
       "model_id": "503e206ce609435f936fb2c1b29f78fc",
       "version_major": 2,
       "version_minor": 0
      },
      "text/plain": [
       "Training:   0%|          | 0/626 [00:00<?, ?it/s]"
      ]
     },
     "metadata": {},
     "output_type": "display_data"
    },
    {
     "data": {
      "application/vnd.jupyter.widget-view+json": {
       "model_id": "ff41ca73007c4f9db7f8e3f926f0fef3",
       "version_major": 2,
       "version_minor": 0
      },
      "text/plain": [
       "Evaluating:   0%|          | 0/157 [00:00<?, ?it/s]"
      ]
     },
     "metadata": {},
     "output_type": "display_data"
    },
    {
     "name": "stdout",
     "output_type": "stream",
     "text": [
      "Epoch 17: Train Loss: 0.4387, Val Loss: 0.3747, Val Acc: 0.8546\n"
     ]
    },
    {
     "data": {
      "application/vnd.jupyter.widget-view+json": {
       "model_id": "dce26c46b85b434199a116ae75044258",
       "version_major": 2,
       "version_minor": 0
      },
      "text/plain": [
       "Training:   0%|          | 0/626 [00:00<?, ?it/s]"
      ]
     },
     "metadata": {},
     "output_type": "display_data"
    },
    {
     "data": {
      "application/vnd.jupyter.widget-view+json": {
       "model_id": "818c30940eb247c9868b8eab4694b9b3",
       "version_major": 2,
       "version_minor": 0
      },
      "text/plain": [
       "Evaluating:   0%|          | 0/157 [00:00<?, ?it/s]"
      ]
     },
     "metadata": {},
     "output_type": "display_data"
    },
    {
     "name": "stdout",
     "output_type": "stream",
     "text": [
      "Epoch 18: Train Loss: 0.4384, Val Loss: 0.3708, Val Acc: 0.8562\n"
     ]
    },
    {
     "data": {
      "application/vnd.jupyter.widget-view+json": {
       "model_id": "4baa74a82a5748899aec23e126360d3d",
       "version_major": 2,
       "version_minor": 0
      },
      "text/plain": [
       "Training:   0%|          | 0/626 [00:00<?, ?it/s]"
      ]
     },
     "metadata": {},
     "output_type": "display_data"
    },
    {
     "data": {
      "application/vnd.jupyter.widget-view+json": {
       "model_id": "317d4a558e60430fa5e343c7ad35c959",
       "version_major": 2,
       "version_minor": 0
      },
      "text/plain": [
       "Evaluating:   0%|          | 0/157 [00:00<?, ?it/s]"
      ]
     },
     "metadata": {},
     "output_type": "display_data"
    },
    {
     "name": "stdout",
     "output_type": "stream",
     "text": [
      "Epoch 19: Train Loss: 0.4147, Val Loss: 0.3969, Val Acc: 0.8387\n"
     ]
    },
    {
     "data": {
      "application/vnd.jupyter.widget-view+json": {
       "model_id": "a2c75937feeb46b492a97eecfdeed859",
       "version_major": 2,
       "version_minor": 0
      },
      "text/plain": [
       "Training:   0%|          | 0/626 [00:00<?, ?it/s]"
      ]
     },
     "metadata": {},
     "output_type": "display_data"
    },
    {
     "data": {
      "application/vnd.jupyter.widget-view+json": {
       "model_id": "f5330889c31b4fe983cba1d5a807e7e3",
       "version_major": 2,
       "version_minor": 0
      },
      "text/plain": [
       "Evaluating:   0%|          | 0/157 [00:00<?, ?it/s]"
      ]
     },
     "metadata": {},
     "output_type": "display_data"
    },
    {
     "name": "stdout",
     "output_type": "stream",
     "text": [
      "Epoch 20: Train Loss: 0.4209, Val Loss: 0.3844, Val Acc: 0.8458\n"
     ]
    },
    {
     "data": {
      "application/vnd.jupyter.widget-view+json": {
       "model_id": "a04f5a53f5244662a0efe8f288fa57c2",
       "version_major": 2,
       "version_minor": 0
      },
      "text/plain": [
       "Training:   0%|          | 0/626 [00:00<?, ?it/s]"
      ]
     },
     "metadata": {},
     "output_type": "display_data"
    },
    {
     "data": {
      "application/vnd.jupyter.widget-view+json": {
       "model_id": "979f7ad8d8b943ef986456e7e8510db9",
       "version_major": 2,
       "version_minor": 0
      },
      "text/plain": [
       "Evaluating:   0%|          | 0/157 [00:00<?, ?it/s]"
      ]
     },
     "metadata": {},
     "output_type": "display_data"
    },
    {
     "name": "stdout",
     "output_type": "stream",
     "text": [
      "Epoch 21: Train Loss: 0.4061, Val Loss: 0.4255, Val Acc: 0.8243\n",
      "Early stopping triggered\n"
     ]
    },
    {
     "data": {
      "application/vnd.jupyter.widget-view+json": {
       "model_id": "c0b330b8a8ab4f64a9d83d9cb47e4376",
       "version_major": 2,
       "version_minor": 0
      },
      "text/plain": [
       "Evaluating:   0%|          | 0/157 [00:00<?, ?it/s]"
      ]
     },
     "metadata": {},
     "output_type": "display_data"
    },
    {
     "name": "stdout",
     "output_type": "stream",
     "text": [
      "\n",
      "Training History:\n",
      "----------------------------------------\n",
      "Epoch  1: Loss: 0.8252 Val Loss: 0.6885948266573013 Acc: 0.6916932907348243\n",
      "Epoch  2: Loss: 0.7177 Val Loss: 0.6284679390822246 Acc: 0.7364217252396166\n",
      "Epoch  3: Loss: 0.6596 Val Loss: 0.5600653132245799 Acc: 0.7795527156549521\n",
      "Epoch  4: Loss: 0.6178 Val Loss: 0.5715206830175059 Acc: 0.7436102236421726\n",
      "Epoch  5: Loss: 0.5885 Val Loss: 0.6098888739468945 Acc: 0.7140575079872205\n",
      "Epoch  6: Loss: 0.5648 Val Loss: 0.4834252852163497 Acc: 0.8083067092651757\n",
      "Epoch  7: Loss: 0.5432 Val Loss: 0.5603707989404916 Acc: 0.7380191693290735\n",
      "Epoch  8: Loss: 0.5254 Val Loss: 0.478119468850315 Acc: 0.8075079872204473\n",
      "Epoch  9: Loss: 0.5073 Val Loss: 0.456443318658194 Acc: 0.8178913738019169\n",
      "Epoch 10: Loss: 0.5073 Val Loss: 0.4393716072960264 Acc: 0.8234824281150159\n",
      "Epoch 11: Loss: 0.4837 Val Loss: 0.5217363264435416 Acc: 0.7795527156549521\n",
      "Epoch 12: Loss: 0.4841 Val Loss: 0.42730150855840393 Acc: 0.8458466453674122\n",
      "Epoch 13: Loss: 0.4645 Val Loss: 0.4165720732253828 Acc: 0.8258785942492013\n",
      "Epoch 14: Loss: 0.4657 Val Loss: 0.46831574905545087 Acc: 0.797923322683706\n",
      "Epoch 15: Loss: 0.4555 Val Loss: 0.4317667217225216 Acc: 0.8282747603833865\n",
      "Epoch 16: Loss: 0.4492 Val Loss: 0.4082020371915049 Acc: 0.8314696485623003\n",
      "Epoch 17: Loss: 0.4387 Val Loss: 0.374698185901733 Acc: 0.854632587859425\n",
      "Epoch 18: Loss: 0.4384 Val Loss: 0.37075336082915594 Acc: 0.8562300319488818\n",
      "Epoch 19: Loss: 0.4147 Val Loss: 0.39693160905579855 Acc: 0.8386581469648562\n",
      "Epoch 20: Loss: 0.4209 Val Loss: 0.38441194617634367 Acc: 0.8458466453674122\n",
      "Epoch 21: Loss: 0.4061 Val Loss: 0.425468217273047 Acc: 0.8242811501597445\n",
      "\n",
      "Training Fold 2/5\n"
     ]
    },
    {
     "data": {
      "application/vnd.jupyter.widget-view+json": {
       "model_id": "33d6d7e4bbd24f8eacdb99239474cb7a",
       "version_major": 2,
       "version_minor": 0
      },
      "text/plain": [
       "Training:   0%|          | 0/626 [00:00<?, ?it/s]"
      ]
     },
     "metadata": {},
     "output_type": "display_data"
    },
    {
     "data": {
      "application/vnd.jupyter.widget-view+json": {
       "model_id": "39d600b06d3d4b2bb8b79cf64a3df387",
       "version_major": 2,
       "version_minor": 0
      },
      "text/plain": [
       "Evaluating:   0%|          | 0/157 [00:00<?, ?it/s]"
      ]
     },
     "metadata": {},
     "output_type": "display_data"
    },
    {
     "name": "stdout",
     "output_type": "stream",
     "text": [
      "Epoch 1: Train Loss: 0.4226, Val Loss: 0.4127, Val Acc: 0.8259\n"
     ]
    },
    {
     "data": {
      "application/vnd.jupyter.widget-view+json": {
       "model_id": "f0cad40882034e33a0e52ce6362fe188",
       "version_major": 2,
       "version_minor": 0
      },
      "text/plain": [
       "Training:   0%|          | 0/626 [00:00<?, ?it/s]"
      ]
     },
     "metadata": {},
     "output_type": "display_data"
    },
    {
     "data": {
      "application/vnd.jupyter.widget-view+json": {
       "model_id": "123554fbb9174513adcf5c55a4fe7823",
       "version_major": 2,
       "version_minor": 0
      },
      "text/plain": [
       "Evaluating:   0%|          | 0/157 [00:00<?, ?it/s]"
      ]
     },
     "metadata": {},
     "output_type": "display_data"
    },
    {
     "name": "stdout",
     "output_type": "stream",
     "text": [
      "Epoch 2: Train Loss: 0.4201, Val Loss: 0.3770, Val Acc: 0.8506\n"
     ]
    },
    {
     "data": {
      "application/vnd.jupyter.widget-view+json": {
       "model_id": "f93f58ab14cc4bb6b7c581fa67437aae",
       "version_major": 2,
       "version_minor": 0
      },
      "text/plain": [
       "Training:   0%|          | 0/626 [00:00<?, ?it/s]"
      ]
     },
     "metadata": {},
     "output_type": "display_data"
    },
    {
     "data": {
      "application/vnd.jupyter.widget-view+json": {
       "model_id": "39b110d311ec459b9091b20253662009",
       "version_major": 2,
       "version_minor": 0
      },
      "text/plain": [
       "Evaluating:   0%|          | 0/157 [00:00<?, ?it/s]"
      ]
     },
     "metadata": {},
     "output_type": "display_data"
    },
    {
     "name": "stdout",
     "output_type": "stream",
     "text": [
      "Epoch 3: Train Loss: 0.4036, Val Loss: 0.3765, Val Acc: 0.8466\n"
     ]
    },
    {
     "data": {
      "application/vnd.jupyter.widget-view+json": {
       "model_id": "d4316d72606b4961b3800e66cad956e7",
       "version_major": 2,
       "version_minor": 0
      },
      "text/plain": [
       "Training:   0%|          | 0/626 [00:00<?, ?it/s]"
      ]
     },
     "metadata": {},
     "output_type": "display_data"
    },
    {
     "data": {
      "application/vnd.jupyter.widget-view+json": {
       "model_id": "d9bb1b686091415ea04f21f31467064f",
       "version_major": 2,
       "version_minor": 0
      },
      "text/plain": [
       "Evaluating:   0%|          | 0/157 [00:00<?, ?it/s]"
      ]
     },
     "metadata": {},
     "output_type": "display_data"
    },
    {
     "name": "stdout",
     "output_type": "stream",
     "text": [
      "Epoch 4: Train Loss: 0.4084, Val Loss: 0.4064, Val Acc: 0.8203\n"
     ]
    },
    {
     "data": {
      "application/vnd.jupyter.widget-view+json": {
       "model_id": "a5c46e59a3b6451c949305ffec6ff97f",
       "version_major": 2,
       "version_minor": 0
      },
      "text/plain": [
       "Training:   0%|          | 0/626 [00:00<?, ?it/s]"
      ]
     },
     "metadata": {},
     "output_type": "display_data"
    },
    {
     "data": {
      "application/vnd.jupyter.widget-view+json": {
       "model_id": "448bbdca26bd459ba4744f0315a1d2b5",
       "version_major": 2,
       "version_minor": 0
      },
      "text/plain": [
       "Evaluating:   0%|          | 0/157 [00:00<?, ?it/s]"
      ]
     },
     "metadata": {},
     "output_type": "display_data"
    },
    {
     "name": "stdout",
     "output_type": "stream",
     "text": [
      "Epoch 5: Train Loss: 0.4007, Val Loss: 0.3586, Val Acc: 0.8586\n"
     ]
    },
    {
     "data": {
      "application/vnd.jupyter.widget-view+json": {
       "model_id": "a8d8f864c00a4368abaa14a211f32120",
       "version_major": 2,
       "version_minor": 0
      },
      "text/plain": [
       "Training:   0%|          | 0/626 [00:00<?, ?it/s]"
      ]
     },
     "metadata": {},
     "output_type": "display_data"
    },
    {
     "data": {
      "application/vnd.jupyter.widget-view+json": {
       "model_id": "adbf5b2a474b4f9fa27198276151594f",
       "version_major": 2,
       "version_minor": 0
      },
      "text/plain": [
       "Evaluating:   0%|          | 0/157 [00:00<?, ?it/s]"
      ]
     },
     "metadata": {},
     "output_type": "display_data"
    },
    {
     "name": "stdout",
     "output_type": "stream",
     "text": [
      "Epoch 6: Train Loss: 0.3978, Val Loss: 0.3532, Val Acc: 0.8634\n"
     ]
    },
    {
     "data": {
      "application/vnd.jupyter.widget-view+json": {
       "model_id": "e5b073c9cdeb4792b5c9e7340cc1b2ec",
       "version_major": 2,
       "version_minor": 0
      },
      "text/plain": [
       "Training:   0%|          | 0/626 [00:00<?, ?it/s]"
      ]
     },
     "metadata": {},
     "output_type": "display_data"
    },
    {
     "data": {
      "application/vnd.jupyter.widget-view+json": {
       "model_id": "efdf220260174216aa8bac8c82888a2b",
       "version_major": 2,
       "version_minor": 0
      },
      "text/plain": [
       "Evaluating:   0%|          | 0/157 [00:00<?, ?it/s]"
      ]
     },
     "metadata": {},
     "output_type": "display_data"
    },
    {
     "name": "stdout",
     "output_type": "stream",
     "text": [
      "Epoch 7: Train Loss: 0.3875, Val Loss: 0.3958, Val Acc: 0.8331\n"
     ]
    },
    {
     "data": {
      "application/vnd.jupyter.widget-view+json": {
       "model_id": "19e8fbf81ed6478e9c13dc7f1b577064",
       "version_major": 2,
       "version_minor": 0
      },
      "text/plain": [
       "Training:   0%|          | 0/626 [00:00<?, ?it/s]"
      ]
     },
     "metadata": {},
     "output_type": "display_data"
    },
    {
     "data": {
      "application/vnd.jupyter.widget-view+json": {
       "model_id": "539cbd99fb184f24b999bed8ec222f71",
       "version_major": 2,
       "version_minor": 0
      },
      "text/plain": [
       "Evaluating:   0%|          | 0/157 [00:00<?, ?it/s]"
      ]
     },
     "metadata": {},
     "output_type": "display_data"
    },
    {
     "name": "stdout",
     "output_type": "stream",
     "text": [
      "Epoch 8: Train Loss: 0.3863, Val Loss: 0.3438, Val Acc: 0.8674\n"
     ]
    },
    {
     "data": {
      "application/vnd.jupyter.widget-view+json": {
       "model_id": "2e810fb449ce4620a99173459274e8f8",
       "version_major": 2,
       "version_minor": 0
      },
      "text/plain": [
       "Training:   0%|          | 0/626 [00:00<?, ?it/s]"
      ]
     },
     "metadata": {},
     "output_type": "display_data"
    },
    {
     "data": {
      "application/vnd.jupyter.widget-view+json": {
       "model_id": "24342f112b344eeca3657def1b2122ee",
       "version_major": 2,
       "version_minor": 0
      },
      "text/plain": [
       "Evaluating:   0%|          | 0/157 [00:00<?, ?it/s]"
      ]
     },
     "metadata": {},
     "output_type": "display_data"
    },
    {
     "name": "stdout",
     "output_type": "stream",
     "text": [
      "Epoch 9: Train Loss: 0.3833, Val Loss: 0.3779, Val Acc: 0.8498\n"
     ]
    },
    {
     "data": {
      "application/vnd.jupyter.widget-view+json": {
       "model_id": "9cef41558c104278b0af3b925277c89b",
       "version_major": 2,
       "version_minor": 0
      },
      "text/plain": [
       "Training:   0%|          | 0/626 [00:00<?, ?it/s]"
      ]
     },
     "metadata": {},
     "output_type": "display_data"
    },
    {
     "data": {
      "application/vnd.jupyter.widget-view+json": {
       "model_id": "1e5ad7d8c6a14ee38362c7d25b4f30b5",
       "version_major": 2,
       "version_minor": 0
      },
      "text/plain": [
       "Evaluating:   0%|          | 0/157 [00:00<?, ?it/s]"
      ]
     },
     "metadata": {},
     "output_type": "display_data"
    },
    {
     "name": "stdout",
     "output_type": "stream",
     "text": [
      "Epoch 10: Train Loss: 0.3884, Val Loss: 0.3441, Val Acc: 0.8578\n"
     ]
    },
    {
     "data": {
      "application/vnd.jupyter.widget-view+json": {
       "model_id": "d49048a2d85f4fffbe7500dc48a8efaa",
       "version_major": 2,
       "version_minor": 0
      },
      "text/plain": [
       "Training:   0%|          | 0/626 [00:00<?, ?it/s]"
      ]
     },
     "metadata": {},
     "output_type": "display_data"
    },
    {
     "data": {
      "application/vnd.jupyter.widget-view+json": {
       "model_id": "6c8c3589918f4bdf9cc4b0e2f024b009",
       "version_major": 2,
       "version_minor": 0
      },
      "text/plain": [
       "Evaluating:   0%|          | 0/157 [00:00<?, ?it/s]"
      ]
     },
     "metadata": {},
     "output_type": "display_data"
    },
    {
     "name": "stdout",
     "output_type": "stream",
     "text": [
      "Epoch 11: Train Loss: 0.3787, Val Loss: 0.4516, Val Acc: 0.7923\n",
      "Early stopping triggered\n"
     ]
    },
    {
     "data": {
      "application/vnd.jupyter.widget-view+json": {
       "model_id": "863578ac22704c0cb6c7d2f84a579424",
       "version_major": 2,
       "version_minor": 0
      },
      "text/plain": [
       "Evaluating:   0%|          | 0/157 [00:00<?, ?it/s]"
      ]
     },
     "metadata": {},
     "output_type": "display_data"
    },
    {
     "name": "stdout",
     "output_type": "stream",
     "text": [
      "\n",
      "Training History:\n",
      "----------------------------------------\n",
      "Epoch  1: Loss: 0.4226 Val Loss: 0.4126754237493132 Acc: 0.8258785942492013\n",
      "Epoch  2: Loss: 0.4201 Val Loss: 0.3770373932969798 Acc: 0.8506389776357828\n",
      "Epoch  3: Loss: 0.4036 Val Loss: 0.3765328195254514 Acc: 0.8466453674121406\n",
      "Epoch  4: Loss: 0.4084 Val Loss: 0.4063609736455474 Acc: 0.8202875399361023\n",
      "Epoch  5: Loss: 0.4007 Val Loss: 0.35862012254964015 Acc: 0.8586261980830671\n",
      "Epoch  6: Loss: 0.3978 Val Loss: 0.35323838681979164 Acc: 0.8634185303514377\n",
      "Epoch  7: Loss: 0.3875 Val Loss: 0.39578201557705356 Acc: 0.8330670926517572\n",
      "Epoch  8: Loss: 0.3863 Val Loss: 0.343760255486912 Acc: 0.8674121405750799\n",
      "Epoch  9: Loss: 0.3833 Val Loss: 0.37786255527738555 Acc: 0.8498402555910544\n",
      "Epoch 10: Loss: 0.3884 Val Loss: 0.3440577535872247 Acc: 0.8578274760383386\n",
      "Epoch 11: Loss: 0.3787 Val Loss: 0.4515590135269104 Acc: 0.792332268370607\n",
      "\n",
      "Training Fold 3/5\n"
     ]
    },
    {
     "data": {
      "application/vnd.jupyter.widget-view+json": {
       "model_id": "61d09c7874e04937844352bcbe5380f2",
       "version_major": 2,
       "version_minor": 0
      },
      "text/plain": [
       "Training:   0%|          | 0/626 [00:00<?, ?it/s]"
      ]
     },
     "metadata": {},
     "output_type": "display_data"
    },
    {
     "data": {
      "application/vnd.jupyter.widget-view+json": {
       "model_id": "efaa15788963498b8d08ca0ad3d99454",
       "version_major": 2,
       "version_minor": 0
      },
      "text/plain": [
       "Evaluating:   0%|          | 0/157 [00:00<?, ?it/s]"
      ]
     },
     "metadata": {},
     "output_type": "display_data"
    },
    {
     "name": "stdout",
     "output_type": "stream",
     "text": [
      "Epoch 1: Train Loss: 0.3948, Val Loss: 0.3384, Val Acc: 0.8570\n"
     ]
    },
    {
     "data": {
      "application/vnd.jupyter.widget-view+json": {
       "model_id": "58b33cc859cc4a43a4b76ea42a9d637d",
       "version_major": 2,
       "version_minor": 0
      },
      "text/plain": [
       "Training:   0%|          | 0/626 [00:00<?, ?it/s]"
      ]
     },
     "metadata": {},
     "output_type": "display_data"
    },
    {
     "data": {
      "application/vnd.jupyter.widget-view+json": {
       "model_id": "4396acabfcb54a44bf25ec1b896d6149",
       "version_major": 2,
       "version_minor": 0
      },
      "text/plain": [
       "Evaluating:   0%|          | 0/157 [00:00<?, ?it/s]"
      ]
     },
     "metadata": {},
     "output_type": "display_data"
    },
    {
     "name": "stdout",
     "output_type": "stream",
     "text": [
      "Epoch 2: Train Loss: 0.3842, Val Loss: 0.3190, Val Acc: 0.8666\n"
     ]
    },
    {
     "data": {
      "application/vnd.jupyter.widget-view+json": {
       "model_id": "9baff658d0ce4d478db66db7c66feabf",
       "version_major": 2,
       "version_minor": 0
      },
      "text/plain": [
       "Training:   0%|          | 0/626 [00:00<?, ?it/s]"
      ]
     },
     "metadata": {},
     "output_type": "display_data"
    },
    {
     "data": {
      "application/vnd.jupyter.widget-view+json": {
       "model_id": "e26ae211782c4702b8e10bcffc95229c",
       "version_major": 2,
       "version_minor": 0
      },
      "text/plain": [
       "Evaluating:   0%|          | 0/157 [00:00<?, ?it/s]"
      ]
     },
     "metadata": {},
     "output_type": "display_data"
    },
    {
     "name": "stdout",
     "output_type": "stream",
     "text": [
      "Epoch 3: Train Loss: 0.3767, Val Loss: 0.3293, Val Acc: 0.8642\n"
     ]
    },
    {
     "data": {
      "application/vnd.jupyter.widget-view+json": {
       "model_id": "6ccdc84da9324f5282b43ae7b9a03c1c",
       "version_major": 2,
       "version_minor": 0
      },
      "text/plain": [
       "Training:   0%|          | 0/626 [00:00<?, ?it/s]"
      ]
     },
     "metadata": {},
     "output_type": "display_data"
    },
    {
     "data": {
      "application/vnd.jupyter.widget-view+json": {
       "model_id": "0a5919c8da2d4e138e6a579b81325652",
       "version_major": 2,
       "version_minor": 0
      },
      "text/plain": [
       "Evaluating:   0%|          | 0/157 [00:00<?, ?it/s]"
      ]
     },
     "metadata": {},
     "output_type": "display_data"
    },
    {
     "name": "stdout",
     "output_type": "stream",
     "text": [
      "Epoch 4: Train Loss: 0.3713, Val Loss: 0.3867, Val Acc: 0.8347\n"
     ]
    },
    {
     "data": {
      "application/vnd.jupyter.widget-view+json": {
       "model_id": "ddeb5c5368334854950c856df79e4450",
       "version_major": 2,
       "version_minor": 0
      },
      "text/plain": [
       "Training:   0%|          | 0/626 [00:00<?, ?it/s]"
      ]
     },
     "metadata": {},
     "output_type": "display_data"
    },
    {
     "data": {
      "application/vnd.jupyter.widget-view+json": {
       "model_id": "15a121a0a8d3442094a7ae952a9297c9",
       "version_major": 2,
       "version_minor": 0
      },
      "text/plain": [
       "Evaluating:   0%|          | 0/157 [00:00<?, ?it/s]"
      ]
     },
     "metadata": {},
     "output_type": "display_data"
    },
    {
     "name": "stdout",
     "output_type": "stream",
     "text": [
      "Epoch 5: Train Loss: 0.3631, Val Loss: 0.3400, Val Acc: 0.8674\n",
      "Early stopping triggered\n"
     ]
    },
    {
     "data": {
      "application/vnd.jupyter.widget-view+json": {
       "model_id": "230d6d3e797841af802e2db88addf585",
       "version_major": 2,
       "version_minor": 0
      },
      "text/plain": [
       "Evaluating:   0%|          | 0/157 [00:00<?, ?it/s]"
      ]
     },
     "metadata": {},
     "output_type": "display_data"
    },
    {
     "name": "stdout",
     "output_type": "stream",
     "text": [
      "\n",
      "Training History:\n",
      "----------------------------------------\n",
      "Epoch  1: Loss: 0.3948 Val Loss: 0.3384090769490239 Acc: 0.8570287539936102\n",
      "Epoch  2: Loss: 0.3842 Val Loss: 0.31896506615315273 Acc: 0.8666134185303515\n",
      "Epoch  3: Loss: 0.3767 Val Loss: 0.32926075654045034 Acc: 0.8642172523961661\n",
      "Epoch  4: Loss: 0.3713 Val Loss: 0.3866745247060706 Acc: 0.8346645367412141\n",
      "Epoch  5: Loss: 0.3631 Val Loss: 0.3400428330252884 Acc: 0.8674121405750799\n",
      "\n",
      "Training Fold 4/5\n"
     ]
    },
    {
     "data": {
      "application/vnd.jupyter.widget-view+json": {
       "model_id": "efc35adf2b50450383fe129b9764667e",
       "version_major": 2,
       "version_minor": 0
      },
      "text/plain": [
       "Training:   0%|          | 0/626 [00:00<?, ?it/s]"
      ]
     },
     "metadata": {},
     "output_type": "display_data"
    },
    {
     "data": {
      "application/vnd.jupyter.widget-view+json": {
       "model_id": "05afb21099bb41ac8025e88e9d3dcefd",
       "version_major": 2,
       "version_minor": 0
      },
      "text/plain": [
       "Evaluating:   0%|          | 0/157 [00:00<?, ?it/s]"
      ]
     },
     "metadata": {},
     "output_type": "display_data"
    },
    {
     "name": "stdout",
     "output_type": "stream",
     "text": [
      "Epoch 1: Train Loss: 0.3701, Val Loss: 0.3338, Val Acc: 0.8737\n"
     ]
    },
    {
     "data": {
      "application/vnd.jupyter.widget-view+json": {
       "model_id": "ef71602142324e27b1aa89bb0b7141b4",
       "version_major": 2,
       "version_minor": 0
      },
      "text/plain": [
       "Training:   0%|          | 0/626 [00:00<?, ?it/s]"
      ]
     },
     "metadata": {},
     "output_type": "display_data"
    },
    {
     "data": {
      "application/vnd.jupyter.widget-view+json": {
       "model_id": "aca1be2b9bd74e418aa39a1bdac6d657",
       "version_major": 2,
       "version_minor": 0
      },
      "text/plain": [
       "Evaluating:   0%|          | 0/157 [00:00<?, ?it/s]"
      ]
     },
     "metadata": {},
     "output_type": "display_data"
    },
    {
     "name": "stdout",
     "output_type": "stream",
     "text": [
      "Epoch 2: Train Loss: 0.3662, Val Loss: 0.3104, Val Acc: 0.8865\n"
     ]
    },
    {
     "data": {
      "application/vnd.jupyter.widget-view+json": {
       "model_id": "4a3ac7efd19c4ad7b71cdf93322d208c",
       "version_major": 2,
       "version_minor": 0
      },
      "text/plain": [
       "Training:   0%|          | 0/626 [00:00<?, ?it/s]"
      ]
     },
     "metadata": {},
     "output_type": "display_data"
    },
    {
     "data": {
      "application/vnd.jupyter.widget-view+json": {
       "model_id": "4c5b18f8ab884514b7dd58947ab156e9",
       "version_major": 2,
       "version_minor": 0
      },
      "text/plain": [
       "Evaluating:   0%|          | 0/157 [00:00<?, ?it/s]"
      ]
     },
     "metadata": {},
     "output_type": "display_data"
    },
    {
     "name": "stdout",
     "output_type": "stream",
     "text": [
      "Epoch 3: Train Loss: 0.3657, Val Loss: 0.3602, Val Acc: 0.8425\n"
     ]
    },
    {
     "data": {
      "application/vnd.jupyter.widget-view+json": {
       "model_id": "9de90162607144bc98bc1e0297daf50d",
       "version_major": 2,
       "version_minor": 0
      },
      "text/plain": [
       "Training:   0%|          | 0/626 [00:00<?, ?it/s]"
      ]
     },
     "metadata": {},
     "output_type": "display_data"
    },
    {
     "data": {
      "application/vnd.jupyter.widget-view+json": {
       "model_id": "8a52d9d10db04fe3ad2c740f95d9f44d",
       "version_major": 2,
       "version_minor": 0
      },
      "text/plain": [
       "Evaluating:   0%|          | 0/157 [00:00<?, ?it/s]"
      ]
     },
     "metadata": {},
     "output_type": "display_data"
    },
    {
     "name": "stdout",
     "output_type": "stream",
     "text": [
      "Epoch 4: Train Loss: 0.3631, Val Loss: 0.3345, Val Acc: 0.8665\n"
     ]
    },
    {
     "data": {
      "application/vnd.jupyter.widget-view+json": {
       "model_id": "6a993c0e98fc4320908d430a8e2e24e8",
       "version_major": 2,
       "version_minor": 0
      },
      "text/plain": [
       "Training:   0%|          | 0/626 [00:00<?, ?it/s]"
      ]
     },
     "metadata": {},
     "output_type": "display_data"
    },
    {
     "data": {
      "application/vnd.jupyter.widget-view+json": {
       "model_id": "ffaad48392ef4e5d84d4c664c77de845",
       "version_major": 2,
       "version_minor": 0
      },
      "text/plain": [
       "Evaluating:   0%|          | 0/157 [00:00<?, ?it/s]"
      ]
     },
     "metadata": {},
     "output_type": "display_data"
    },
    {
     "name": "stdout",
     "output_type": "stream",
     "text": [
      "Epoch 5: Train Loss: 0.3600, Val Loss: 0.3991, Val Acc: 0.8241\n",
      "Early stopping triggered\n"
     ]
    },
    {
     "data": {
      "application/vnd.jupyter.widget-view+json": {
       "model_id": "2241169acbaf4896ac8b39dbc47f78a7",
       "version_major": 2,
       "version_minor": 0
      },
      "text/plain": [
       "Evaluating:   0%|          | 0/157 [00:00<?, ?it/s]"
      ]
     },
     "metadata": {},
     "output_type": "display_data"
    },
    {
     "name": "stdout",
     "output_type": "stream",
     "text": [
      "\n",
      "Training History:\n",
      "----------------------------------------\n",
      "Epoch  1: Loss: 0.3701 Val Loss: 0.33378822778820233 Acc: 0.873701039168665\n",
      "Epoch  2: Loss: 0.3662 Val Loss: 0.3103532313256507 Acc: 0.8864908073541167\n",
      "Epoch  3: Loss: 0.3657 Val Loss: 0.36018256964102674 Acc: 0.8425259792166268\n",
      "Epoch  4: Loss: 0.3631 Val Loss: 0.3345058272788479 Acc: 0.8665067945643485\n",
      "Epoch  5: Loss: 0.3600 Val Loss: 0.3990614946670593 Acc: 0.82414068745004\n",
      "\n",
      "Training Fold 5/5\n"
     ]
    },
    {
     "data": {
      "application/vnd.jupyter.widget-view+json": {
       "model_id": "d1fe6e979d2a4e20a17d13db14dd1e3c",
       "version_major": 2,
       "version_minor": 0
      },
      "text/plain": [
       "Training:   0%|          | 0/626 [00:00<?, ?it/s]"
      ]
     },
     "metadata": {},
     "output_type": "display_data"
    },
    {
     "data": {
      "application/vnd.jupyter.widget-view+json": {
       "model_id": "9e0ab26f8bb2424e89df8ea0f23ea392",
       "version_major": 2,
       "version_minor": 0
      },
      "text/plain": [
       "Evaluating:   0%|          | 0/157 [00:00<?, ?it/s]"
      ]
     },
     "metadata": {},
     "output_type": "display_data"
    },
    {
     "name": "stdout",
     "output_type": "stream",
     "text": [
      "Epoch 1: Train Loss: 0.3676, Val Loss: 0.3392, Val Acc: 0.8569\n"
     ]
    },
    {
     "data": {
      "application/vnd.jupyter.widget-view+json": {
       "model_id": "a7b752adec454840af033b29f8d649d6",
       "version_major": 2,
       "version_minor": 0
      },
      "text/plain": [
       "Training:   0%|          | 0/626 [00:00<?, ?it/s]"
      ]
     },
     "metadata": {},
     "output_type": "display_data"
    },
    {
     "data": {
      "application/vnd.jupyter.widget-view+json": {
       "model_id": "66d00b60083a41788accc178a4a3a0c8",
       "version_major": 2,
       "version_minor": 0
      },
      "text/plain": [
       "Evaluating:   0%|          | 0/157 [00:00<?, ?it/s]"
      ]
     },
     "metadata": {},
     "output_type": "display_data"
    },
    {
     "name": "stdout",
     "output_type": "stream",
     "text": [
      "Epoch 2: Train Loss: 0.3671, Val Loss: 0.3112, Val Acc: 0.8809\n"
     ]
    },
    {
     "data": {
      "application/vnd.jupyter.widget-view+json": {
       "model_id": "8edc3324931b44aab864e683c73f44ba",
       "version_major": 2,
       "version_minor": 0
      },
      "text/plain": [
       "Training:   0%|          | 0/626 [00:00<?, ?it/s]"
      ]
     },
     "metadata": {},
     "output_type": "display_data"
    },
    {
     "data": {
      "application/vnd.jupyter.widget-view+json": {
       "model_id": "ac210d563d7d4e8a923b73cf2c80dfe7",
       "version_major": 2,
       "version_minor": 0
      },
      "text/plain": [
       "Evaluating:   0%|          | 0/157 [00:00<?, ?it/s]"
      ]
     },
     "metadata": {},
     "output_type": "display_data"
    },
    {
     "name": "stdout",
     "output_type": "stream",
     "text": [
      "Epoch 3: Train Loss: 0.3611, Val Loss: 0.3328, Val Acc: 0.8617\n"
     ]
    },
    {
     "data": {
      "application/vnd.jupyter.widget-view+json": {
       "model_id": "b94afcd3c8d542da92a9fde33f27f08b",
       "version_major": 2,
       "version_minor": 0
      },
      "text/plain": [
       "Training:   0%|          | 0/626 [00:00<?, ?it/s]"
      ]
     },
     "metadata": {},
     "output_type": "display_data"
    },
    {
     "data": {
      "application/vnd.jupyter.widget-view+json": {
       "model_id": "b34d382ee4ba43098d958ee86f8216f4",
       "version_major": 2,
       "version_minor": 0
      },
      "text/plain": [
       "Evaluating:   0%|          | 0/157 [00:00<?, ?it/s]"
      ]
     },
     "metadata": {},
     "output_type": "display_data"
    },
    {
     "name": "stdout",
     "output_type": "stream",
     "text": [
      "Epoch 4: Train Loss: 0.3592, Val Loss: 0.2922, Val Acc: 0.8833\n"
     ]
    },
    {
     "data": {
      "application/vnd.jupyter.widget-view+json": {
       "model_id": "c2e4948ae9074dce8b2dca10cdfe0f82",
       "version_major": 2,
       "version_minor": 0
      },
      "text/plain": [
       "Training:   0%|          | 0/626 [00:00<?, ?it/s]"
      ]
     },
     "metadata": {},
     "output_type": "display_data"
    },
    {
     "data": {
      "application/vnd.jupyter.widget-view+json": {
       "model_id": "42e9e573ac324e47bbd76360fb939158",
       "version_major": 2,
       "version_minor": 0
      },
      "text/plain": [
       "Evaluating:   0%|          | 0/157 [00:00<?, ?it/s]"
      ]
     },
     "metadata": {},
     "output_type": "display_data"
    },
    {
     "name": "stdout",
     "output_type": "stream",
     "text": [
      "Epoch 5: Train Loss: 0.3536, Val Loss: 0.3375, Val Acc: 0.8689\n"
     ]
    },
    {
     "data": {
      "application/vnd.jupyter.widget-view+json": {
       "model_id": "a1dc908b7a8948c287dd1743ff0c67cf",
       "version_major": 2,
       "version_minor": 0
      },
      "text/plain": [
       "Training:   0%|          | 0/626 [00:00<?, ?it/s]"
      ]
     },
     "metadata": {},
     "output_type": "display_data"
    },
    {
     "data": {
      "application/vnd.jupyter.widget-view+json": {
       "model_id": "6ae50966db674cf8a4af2b780f2704b5",
       "version_major": 2,
       "version_minor": 0
      },
      "text/plain": [
       "Evaluating:   0%|          | 0/157 [00:00<?, ?it/s]"
      ]
     },
     "metadata": {},
     "output_type": "display_data"
    },
    {
     "name": "stdout",
     "output_type": "stream",
     "text": [
      "Epoch 6: Train Loss: 0.3489, Val Loss: 0.3286, Val Acc: 0.8577\n"
     ]
    },
    {
     "data": {
      "application/vnd.jupyter.widget-view+json": {
       "model_id": "06a3cbc2ac694723829593c203a2e472",
       "version_major": 2,
       "version_minor": 0
      },
      "text/plain": [
       "Training:   0%|          | 0/626 [00:00<?, ?it/s]"
      ]
     },
     "metadata": {},
     "output_type": "display_data"
    },
    {
     "data": {
      "application/vnd.jupyter.widget-view+json": {
       "model_id": "7c62e09c77424b21994f9d028a4d51b7",
       "version_major": 2,
       "version_minor": 0
      },
      "text/plain": [
       "Evaluating:   0%|          | 0/157 [00:00<?, ?it/s]"
      ]
     },
     "metadata": {},
     "output_type": "display_data"
    },
    {
     "name": "stdout",
     "output_type": "stream",
     "text": [
      "Epoch 7: Train Loss: 0.3518, Val Loss: 0.2878, Val Acc: 0.8897\n"
     ]
    },
    {
     "data": {
      "application/vnd.jupyter.widget-view+json": {
       "model_id": "3dd677016292404899cb90b967f61ec4",
       "version_major": 2,
       "version_minor": 0
      },
      "text/plain": [
       "Training:   0%|          | 0/626 [00:00<?, ?it/s]"
      ]
     },
     "metadata": {},
     "output_type": "display_data"
    },
    {
     "data": {
      "application/vnd.jupyter.widget-view+json": {
       "model_id": "79aad4cc9e204ff284afb8598e12762b",
       "version_major": 2,
       "version_minor": 0
      },
      "text/plain": [
       "Evaluating:   0%|          | 0/157 [00:00<?, ?it/s]"
      ]
     },
     "metadata": {},
     "output_type": "display_data"
    },
    {
     "name": "stdout",
     "output_type": "stream",
     "text": [
      "Epoch 8: Train Loss: 0.3490, Val Loss: 0.3012, Val Acc: 0.8929\n"
     ]
    },
    {
     "data": {
      "application/vnd.jupyter.widget-view+json": {
       "model_id": "26df3cd4e6cb4eaebb6568b6ed4ca919",
       "version_major": 2,
       "version_minor": 0
      },
      "text/plain": [
       "Training:   0%|          | 0/626 [00:00<?, ?it/s]"
      ]
     },
     "metadata": {},
     "output_type": "display_data"
    },
    {
     "data": {
      "application/vnd.jupyter.widget-view+json": {
       "model_id": "04b75a9e8e7f4d0eae132b8810e608d1",
       "version_major": 2,
       "version_minor": 0
      },
      "text/plain": [
       "Evaluating:   0%|          | 0/157 [00:00<?, ?it/s]"
      ]
     },
     "metadata": {},
     "output_type": "display_data"
    },
    {
     "name": "stdout",
     "output_type": "stream",
     "text": [
      "Epoch 9: Train Loss: 0.3341, Val Loss: 0.3665, Val Acc: 0.8457\n"
     ]
    },
    {
     "data": {
      "application/vnd.jupyter.widget-view+json": {
       "model_id": "1db28e2830624bf1adacda460c43f062",
       "version_major": 2,
       "version_minor": 0
      },
      "text/plain": [
       "Training:   0%|          | 0/626 [00:00<?, ?it/s]"
      ]
     },
     "metadata": {},
     "output_type": "display_data"
    },
    {
     "data": {
      "application/vnd.jupyter.widget-view+json": {
       "model_id": "5b0d3762a0be4a17a2844b35274a9f77",
       "version_major": 2,
       "version_minor": 0
      },
      "text/plain": [
       "Evaluating:   0%|          | 0/157 [00:00<?, ?it/s]"
      ]
     },
     "metadata": {},
     "output_type": "display_data"
    },
    {
     "name": "stdout",
     "output_type": "stream",
     "text": [
      "Epoch 10: Train Loss: 0.3392, Val Loss: 0.2953, Val Acc: 0.8857\n",
      "Early stopping triggered\n"
     ]
    },
    {
     "data": {
      "application/vnd.jupyter.widget-view+json": {
       "model_id": "cabf706734f74aefae8eb039c90902f5",
       "version_major": 2,
       "version_minor": 0
      },
      "text/plain": [
       "Evaluating:   0%|          | 0/157 [00:00<?, ?it/s]"
      ]
     },
     "metadata": {},
     "output_type": "display_data"
    },
    {
     "name": "stdout",
     "output_type": "stream",
     "text": [
      "\n",
      "Training History:\n",
      "----------------------------------------\n",
      "Epoch  1: Loss: 0.3676 Val Loss: 0.33917253628183325 Acc: 0.8569144684252598\n",
      "Epoch  2: Loss: 0.3671 Val Loss: 0.3111643418432421 Acc: 0.8808952837729817\n",
      "Epoch  3: Loss: 0.3611 Val Loss: 0.3327703738146147 Acc: 0.8617106314948042\n",
      "Epoch  4: Loss: 0.3592 Val Loss: 0.292180992437491 Acc: 0.8832933653077538\n",
      "Epoch  5: Loss: 0.3536 Val Loss: 0.33751254050642443 Acc: 0.8689048760991207\n",
      "Epoch  6: Loss: 0.3489 Val Loss: 0.3285818680242938 Acc: 0.8577138289368506\n",
      "Epoch  7: Loss: 0.3518 Val Loss: 0.28778177863995363 Acc: 0.8896882494004796\n",
      "Epoch  8: Loss: 0.3490 Val Loss: 0.3012047198476495 Acc: 0.8928856914468425\n",
      "Epoch  9: Loss: 0.3341 Val Loss: 0.36651169030577135 Acc: 0.8457234212629896\n",
      "Epoch 10: Loss: 0.3392 Val Loss: 0.29530318508482284 Acc: 0.885691446842526\n",
      "\n",
      "Average Metrics Across Folds:\n",
      "{\n",
      "  \"val_loss\": 0.326322738486965,\n",
      "  \"accuracy\": 0.8732869295617819,\n",
      "  \"f1\": 0.8728563493103503,\n",
      "  \"precision\": 0.8765682022717295,\n",
      "  \"recall\": 0.8732869295617819\n",
      "}\n",
      "Model saved at yamnet_model_output/best_model\n",
      "\n",
      "Best model saved at: yamnet_model_output/best_model\n",
      "\n",
      "Preparing test dataset...\n",
      "Loading metadata from Split_Data/test_metadata.csv\n",
      "Loaded 671 entries from metadata\n"
     ]
    },
    {
     "data": {
      "application/vnd.jupyter.widget-view+json": {
       "model_id": "5914ec75df764b7f98dda3c73834d9c3",
       "version_major": 2,
       "version_minor": 0
      },
      "text/plain": [
       "Loading audio files:   0%|          | 0/671 [00:00<?, ?it/s]"
      ]
     },
     "metadata": {},
     "output_type": "display_data"
    },
    {
     "name": "stdout",
     "output_type": "stream",
     "text": [
      "Created dataset with 671 examples\n",
      "\n",
      "Generating performance report...\n"
     ]
    },
    {
     "data": {
      "application/vnd.jupyter.widget-view+json": {
       "model_id": "373c012f15c847dc878c95e6240aabc7",
       "version_major": 2,
       "version_minor": 0
      },
      "text/plain": [
       "Evaluating:   0%|          | 0/84 [00:00<?, ?it/s]"
      ]
     },
     "metadata": {},
     "output_type": "display_data"
    },
    {
     "name": "stdout",
     "output_type": "stream",
     "text": [
      "\n",
      "Confusion Matrix:\n",
      "----------------------------------------\n",
      "              crying screaming    normal\n",
      "\n",
      "    crying       197        19         7\n",
      " screaming        43       172         9\n",
      "    normal         9         3       212\n",
      "----------------------------------------\n",
      "\n",
      "Performance Metrics:\n",
      "----------------------------------------\n",
      "test_loss: 0.3484\n",
      "accuracy: 0.8659\n",
      "f1: 0.8653\n",
      "precision: 0.8693\n",
      "recall: 0.8659\n"
     ]
    }
   ],
   "source": [
    "import os\n",
    "import torch\n",
    "import numpy as np\n",
    "import pandas as pd\n",
    "import gc\n",
    "from torch import nn\n",
    "from torch.utils.data import Dataset, DataLoader\n",
    "from tqdm.auto import tqdm\n",
    "import librosa\n",
    "import json\n",
    "from sklearn.model_selection import KFold\n",
    "from sklearn.metrics import accuracy_score, precision_recall_fscore_support, confusion_matrix\n",
    "from transformers import EarlyStoppingCallback\n",
    "import wandb\n",
    "import colorama\n",
    "from colorama import Fore, Back, Style\n",
    "\n",
    "# Initialize colorama for cross-platform colored output\n",
    "colorama.init()\n",
    "\n",
    "class YAMNetBase(nn.Module):\n",
    "    def __init__(self, num_classes=3):\n",
    "        super(YAMNetBase, self).__init__()\n",
    "        \n",
    "        # YAMNet-like architecture\n",
    "        self.conv1 = nn.Sequential(\n",
    "            nn.Conv1d(1, 64, kernel_size=3, stride=1, padding=1),\n",
    "            nn.BatchNorm1d(64),\n",
    "            nn.ReLU(),\n",
    "            nn.MaxPool1d(kernel_size=2)\n",
    "        )\n",
    "        \n",
    "        self.conv2 = nn.Sequential(\n",
    "            nn.Conv1d(64, 128, kernel_size=3, stride=1, padding=1),\n",
    "            nn.BatchNorm1d(128),\n",
    "            nn.ReLU(),\n",
    "            nn.MaxPool1d(kernel_size=2)\n",
    "        )\n",
    "        \n",
    "        self.conv3 = nn.Sequential(\n",
    "            nn.Conv1d(128, 256, kernel_size=3, stride=1, padding=1),\n",
    "            nn.BatchNorm1d(256),\n",
    "            nn.ReLU(),\n",
    "            nn.MaxPool1d(kernel_size=2)\n",
    "        )\n",
    "        \n",
    "        self.conv4 = nn.Sequential(\n",
    "            nn.Conv1d(256, 512, kernel_size=3, stride=1, padding=1),\n",
    "            nn.BatchNorm1d(512),\n",
    "            nn.ReLU(),\n",
    "            nn.MaxPool1d(kernel_size=2)\n",
    "        )\n",
    "        \n",
    "        # Adaptive pooling to handle variable length inputs\n",
    "        self.adaptive_pool = nn.AdaptiveAvgPool1d(1)\n",
    "        \n",
    "        self.classifier = nn.Sequential(\n",
    "            nn.Linear(512, 1024),\n",
    "            nn.ReLU(),\n",
    "            nn.Dropout(0.5),\n",
    "            nn.Linear(1024, num_classes)\n",
    "        )\n",
    "\n",
    "    def forward(self, x):\n",
    "        # Input shape: (batch_size, 1, time_steps)\n",
    "        x = self.conv1(x)\n",
    "        x = self.conv2(x)\n",
    "        x = self.conv3(x)\n",
    "        x = self.conv4(x)\n",
    "        \n",
    "        # Global pooling\n",
    "        x = self.adaptive_pool(x)\n",
    "        x = x.flatten(1)\n",
    "        \n",
    "        # Classification\n",
    "        x = self.classifier(x)\n",
    "        return x\n",
    "\n",
    "class AudioAugmenter:\n",
    "    \"\"\"Audio augmentation techniques with length preservation\"\"\"\n",
    "    @staticmethod\n",
    "    def pad_or_truncate(audio, max_length=32000):\n",
    "        if len(audio) > max_length:\n",
    "            return audio[:max_length]\n",
    "        elif len(audio) < max_length:\n",
    "            return np.pad(audio, (0, max_length - len(audio)), 'constant')\n",
    "        return audio\n",
    "\n",
    "    @staticmethod\n",
    "    def add_noise(audio, noise_factor=0.005):\n",
    "        try:\n",
    "            noise = np.random.randn(len(audio))\n",
    "            augmented = audio + noise_factor * noise\n",
    "            augmented = np.clip(augmented, -1.0, 1.0)\n",
    "            return augmented\n",
    "        except Exception as e:\n",
    "            print(f\"Warning: Error in add_noise: {str(e)}\")\n",
    "            return audio\n",
    "\n",
    "    @staticmethod\n",
    "    def time_shift(audio, shift_max=0.1):\n",
    "        try:\n",
    "            shift = int(len(audio) * shift_max)\n",
    "            return np.roll(audio, shift) if shift > 0 else audio\n",
    "        except Exception as e:\n",
    "            print(f\"Warning: Error in time_shift: {str(e)}\")\n",
    "            return audio\n",
    "\n",
    "    @staticmethod\n",
    "    def change_speed(audio, speed_factor=0.2):\n",
    "        try:\n",
    "            audio = np.clip(audio, -1.0, 1.0)\n",
    "            speed_change = np.random.uniform(low=0.9, high=1.1)\n",
    "            \n",
    "            augmented = librosa.effects.time_stretch(audio, rate=speed_change)\n",
    "            augmented = np.clip(augmented, -1.0, 1.0)\n",
    "            \n",
    "            # Ensure fixed length after speed change\n",
    "            augmented = AudioAugmenter.pad_or_truncate(augmented)\n",
    "            \n",
    "            return augmented\n",
    "        except Exception as e:\n",
    "            print(f\"Warning: Error in change_speed: {str(e)}\")\n",
    "            return audio\n",
    "\n",
    "    @staticmethod\n",
    "    def augment(audio):\n",
    "        audio = AudioAugmenter.pad_or_truncate(audio)\n",
    "        audio = np.clip(audio, -1.0, 1.0)\n",
    "        \n",
    "        augmentation_list = ['noise', 'shift', 'speed']\n",
    "        num_augments = np.random.randint(1, 3)\n",
    "        selected_augments = np.random.choice(augmentation_list, num_augments, replace=False)\n",
    "        \n",
    "        augmented = audio.copy()\n",
    "        for aug_type in selected_augments:\n",
    "            try:\n",
    "                if aug_type == 'noise':\n",
    "                    augmented = AudioAugmenter.add_noise(augmented)\n",
    "                elif aug_type == 'shift':\n",
    "                    augmented = AudioAugmenter.time_shift(augmented)\n",
    "                elif aug_type == 'speed':\n",
    "                    augmented = AudioAugmenter.change_speed(augmented)\n",
    "                \n",
    "                augmented = np.clip(augmented, -1.0, 1.0)\n",
    "                \n",
    "            except Exception as e:\n",
    "                print(f\"Warning: Error during {aug_type} augmentation: {str(e)}\")\n",
    "                continue\n",
    "        \n",
    "        return augmented.astype(np.float32)\n",
    "\n",
    "class AudioDataset(Dataset):\n",
    "    def __init__(self, audio_data, labels, max_length=32000):\n",
    "        self.audio_data = audio_data\n",
    "        self.labels = labels\n",
    "        self.max_length = max_length\n",
    "    \n",
    "    def __len__(self):\n",
    "        return len(self.labels)\n",
    "    \n",
    "    def __getitem__(self, idx):\n",
    "        audio = self.audio_data[idx].astype(np.float32)\n",
    "        audio = self.pad_or_truncate(audio)\n",
    "        \n",
    "        # Add channel dimension for Conv1d\n",
    "        audio = torch.FloatTensor(audio).unsqueeze(0)\n",
    "        \n",
    "        return {\n",
    "            'input_values': audio,\n",
    "            'label': torch.tensor(self.labels[idx])\n",
    "        }\n",
    "    \n",
    "    def pad_or_truncate(self, audio):\n",
    "        if len(audio) > self.max_length:\n",
    "            return audio[:self.max_length]\n",
    "        elif len(audio) < self.max_length:\n",
    "            return np.pad(audio, (0, self.max_length - len(audio)), 'constant')\n",
    "        return audio\n",
    "\n",
    "class ConsoleVisualizer:\n",
    "    \"\"\"Handles console-based visualization of plots\"\"\"\n",
    "    @staticmethod\n",
    "    def plot_confusion_matrix(cm, labels):\n",
    "        print(\"\\nConfusion Matrix:\")\n",
    "        print(\"-\" * 40)\n",
    "        \n",
    "        # Header\n",
    "        print(f\"{'':>10}\", end='')\n",
    "        for label in labels:\n",
    "            print(f\"{label:>10}\", end='')\n",
    "        print(\"\\n\")\n",
    "        \n",
    "        # Matrix\n",
    "        for i, label in enumerate(labels):\n",
    "            print(f\"{label:>10}\", end='')\n",
    "            for j in range(len(labels)):\n",
    "                if cm[i][j] == 0:\n",
    "                    color = Fore.WHITE\n",
    "                elif cm[i][j] == np.max(cm[i]):\n",
    "                    color = Fore.GREEN\n",
    "                else:\n",
    "                    color = Fore.YELLOW\n",
    "                print(f\"{color}{cm[i][j]:>10}{Style.RESET_ALL}\", end='')\n",
    "            print()\n",
    "        print(\"-\" * 40)\n",
    "\n",
    "    @staticmethod\n",
    "    def plot_training_history(history):\n",
    "        print(\"\\nTraining History:\")\n",
    "        print(\"-\" * 40)\n",
    "        \n",
    "        for epoch, metrics in enumerate(history):\n",
    "            print(f\"Epoch {epoch+1:>2}: \"\n",
    "                  f\"Loss: {metrics['train_loss']:.4f} \"\n",
    "                  f\"Val Loss: {metrics.get('val_loss', 'N/A')} \"\n",
    "                  f\"Acc: {metrics.get('val_accuracy', 'N/A')}\")\n",
    "\n",
    "class YAMNetClassifier:\n",
    "    def __init__(self, num_labels=3):\n",
    "        self.device = torch.device(\"cuda\" if torch.cuda.is_available() else \"cpu\")\n",
    "        self.model = YAMNetBase(num_labels).to(self.device)\n",
    "        self.label_map = {'crying': 0, 'screaming': 1, 'normal': 2}\n",
    "        self.augmenter = AudioAugmenter()\n",
    "        self.visualizer = ConsoleVisualizer()\n",
    "        self.max_length = 32000  # 2 seconds at 16kHz\n",
    "\n",
    "    def load_audio_file(self, file_path, target_sr=16000):\n",
    "        try:\n",
    "            audio, sr = librosa.load(file_path, sr=target_sr, mono=True)\n",
    "            audio = audio / (np.max(np.abs(audio)) + 1e-6)\n",
    "            audio = AudioAugmenter.pad_or_truncate(audio, self.max_length)\n",
    "            return audio.astype(np.float32)\n",
    "        except Exception as e:\n",
    "            print(f\"Error processing {file_path}: {str(e)}\")\n",
    "            return None\n",
    "\n",
    "    def prepare_dataset(self, data_dir, metadata_file, augment=False):\n",
    "        print(f\"Loading metadata from {metadata_file}\")\n",
    "        if not os.path.exists(metadata_file):\n",
    "            raise FileNotFoundError(f\"Metadata file not found: {metadata_file}\")\n",
    "        \n",
    "        df = pd.read_csv(metadata_file)\n",
    "        print(f\"Loaded {len(df)} entries from metadata\")\n",
    "        \n",
    "        audio_data = []\n",
    "        labels = []\n",
    "        \n",
    "        for _, row in tqdm(df.iterrows(), total=len(df), desc=\"Loading audio files\"):\n",
    "            file_path = os.path.join(data_dir, row['file_name'])\n",
    "            if not os.path.exists(file_path):\n",
    "                print(f\"Warning: File not found: {file_path}\")\n",
    "                continue\n",
    "                \n",
    "            audio = self.load_audio_file(file_path)\n",
    "            if audio is not None:\n",
    "                audio_data.append(audio)\n",
    "                labels.append(self.label_map[row['label']])\n",
    "                \n",
    "                if augment:\n",
    "                    augmented_audio = self.augmenter.augment(audio)\n",
    "                    audio_data.append(augmented_audio)\n",
    "                    labels.append(self.label_map[row['label']])\n",
    "        \n",
    "        dataset = AudioDataset(audio_data, labels, self.max_length)\n",
    "        print(f\"Created dataset with {len(dataset)} examples\")\n",
    "        return dataset\n",
    "\n",
    "    def save_model(self, path):\n",
    "        os.makedirs(path, exist_ok=True)\n",
    "        \n",
    "        # Save model state\n",
    "        torch.save(self.model.state_dict(), os.path.join(path, \"model.pt\"))\n",
    "        \n",
    "        # Save label map\n",
    "        with open(os.path.join(path, \"label_map.json\"), \"w\") as f:\n",
    "            json.dump(self.label_map, f)\n",
    "        \n",
    "        print(f\"Model saved at {path}\")\n",
    "\n",
    "    def train_epoch(self, train_loader, optimizer, criterion):\n",
    "        self.model.train()\n",
    "        total_loss = 0\n",
    "        correct = 0\n",
    "        total = 0\n",
    "        \n",
    "        for batch in tqdm(train_loader, desc=\"Training\"):\n",
    "            optimizer.zero_grad()\n",
    "            \n",
    "            inputs = batch['input_values'].to(self.device)\n",
    "            labels = batch['label'].to(self.device)\n",
    "            \n",
    "            outputs = self.model(inputs)\n",
    "            loss = criterion(outputs, labels)\n",
    "            \n",
    "            loss.backward()\n",
    "            optimizer.step()\n",
    "            \n",
    "            total_loss += loss.item()\n",
    "            \n",
    "            _, predicted = outputs.max(1)\n",
    "            total += labels.size(0)\n",
    "            correct += predicted.eq(labels).sum().item()\n",
    "        \n",
    "        return total_loss / len(train_loader), correct / total\n",
    "\n",
    "    def evaluate(self, val_loader, criterion):\n",
    "        self.model.eval()\n",
    "        total_loss = 0\n",
    "        correct = 0\n",
    "        total = 0\n",
    "        \n",
    "        all_preds = []\n",
    "        all_labels = []\n",
    "        \n",
    "        with torch.no_grad():\n",
    "            for batch in tqdm(val_loader, desc=\"Evaluating\"):\n",
    "                inputs = batch['input_values'].to(self.device)\n",
    "                labels = batch['label'].to(self.device)\n",
    "                \n",
    "                outputs = self.model(inputs)\n",
    "                loss = criterion(outputs, labels)\n",
    "                \n",
    "                total_loss += loss.item()\n",
    "                \n",
    "                _, predicted = outputs.max(1)\n",
    "                total += labels.size(0)\n",
    "                correct += predicted.eq(labels).sum().item()\n",
    "                \n",
    "                all_preds.extend(predicted.cpu().numpy())\n",
    "                all_labels.extend(labels.cpu().numpy())\n",
    "        \n",
    "        return (\n",
    "            total_loss / len(val_loader),\n",
    "            correct / total,\n",
    "            all_preds,\n",
    "            all_labels\n",
    "        )\n",
    "\n",
    "    def train_kfold(self, dataset, output_dir, n_splits=5, use_wandb=False):\n",
    "        kf = KFold(n_splits=n_splits, shuffle=True, random_state=42)\n",
    "        indices = np.arange(len(dataset))\n",
    "        \n",
    "        fold_metrics = []\n",
    "        \n",
    "        for fold, (train_idx, val_idx) in enumerate(kf.split(indices)):\n",
    "            print(f\"\\nTraining Fold {fold + 1}/{n_splits}\")\n",
    "            \n",
    "            train_fold = torch.utils.data.Subset(dataset, train_idx)\n",
    "            val_fold = torch.utils.data.Subset(dataset, val_idx)\n",
    "            \n",
    "            train_loader = DataLoader(train_fold, batch_size=8, shuffle=True)\n",
    "            val_loader = DataLoader(val_fold, batch_size=8)\n",
    "            \n",
    "            optimizer = torch.optim.AdamW(self.model.parameters(), lr=3e-5, weight_decay=0.01)\n",
    "            criterion = nn.CrossEntropyLoss()\n",
    "            scheduler = torch.optim.lr_scheduler.ReduceLROnPlateau(\n",
    "                optimizer, mode='min', factor=0.1, patience=2, verbose=True\n",
    "            )\n",
    "            \n",
    "            best_val_loss = float('inf')\n",
    "            patience = 3\n",
    "            patience_counter = 0\n",
    "            history = []\n",
    "            \n",
    "            for epoch in range(25):\n",
    "                train_loss, train_acc = self.train_epoch(train_loader, optimizer, criterion)\n",
    "                val_loss, val_acc, _, _ = self.evaluate(val_loader, criterion)\n",
    "                \n",
    "                metrics = {\n",
    "                    'train_loss': train_loss,\n",
    "                    'val_loss': val_loss,\n",
    "                    'val_accuracy': val_acc\n",
    "                }\n",
    "                history.append(metrics)\n",
    "                \n",
    "                if use_wandb:\n",
    "                    wandb.log(metrics)\n",
    "                \n",
    "                print(f\"Epoch {epoch+1}: Train Loss: {train_loss:.4f}, \"\n",
    "                      f\"Val Loss: {val_loss:.4f}, Val Acc: {val_acc:.4f}\")\n",
    "                \n",
    "                scheduler.step(val_loss)\n",
    "                \n",
    "                if val_loss < best_val_loss:\n",
    "                    best_val_loss = val_loss\n",
    "                    best_model_path = os.path.join(output_dir, f\"fold_{fold + 1}_best.pt\")\n",
    "                    torch.save(self.model.state_dict(), best_model_path)\n",
    "                    patience_counter = 0\n",
    "                else:\n",
    "                    patience_counter += 1\n",
    "                \n",
    "                if patience_counter >= patience:\n",
    "                    print(\"Early stopping triggered\")\n",
    "                    break\n",
    "            \n",
    "            # Load best model for evaluation\n",
    "            self.model.load_state_dict(torch.load(best_model_path))\n",
    "            val_loss, val_acc, preds, labels = self.evaluate(val_loader, criterion)\n",
    "            \n",
    "            # Calculate and store fold metrics\n",
    "            precision, recall, f1, _ = precision_recall_fscore_support(\n",
    "                labels, preds, average='weighted'\n",
    "            )\n",
    "            \n",
    "            fold_metrics.append({\n",
    "                'val_loss': val_loss,\n",
    "                'accuracy': val_acc,\n",
    "                'f1': f1,\n",
    "                'precision': precision,\n",
    "                'recall': recall\n",
    "            })\n",
    "            \n",
    "            # Visualize fold results\n",
    "            self.visualizer.plot_training_history(history)\n",
    "            \n",
    "            # Clear CUDA memory\n",
    "            del train_loader, val_loader\n",
    "            torch.cuda.empty_cache()\n",
    "            gc.collect()\n",
    "        \n",
    "        # Print average metrics across folds\n",
    "        print(\"\\nAverage Metrics Across Folds:\")\n",
    "        avg_metrics = {\n",
    "            key: np.mean([fold[key] for fold in fold_metrics])\n",
    "            for key in fold_metrics[0].keys()\n",
    "        }\n",
    "        print(json.dumps(avg_metrics, indent=2))\n",
    "        \n",
    "        return avg_metrics\n",
    "\n",
    "    def generate_performance_report(self, test_dataset, output_dir):\n",
    "        \"\"\"Generate and visualize performance metrics\"\"\"\n",
    "        test_loader = DataLoader(test_dataset, batch_size=8)\n",
    "        criterion = nn.CrossEntropyLoss()\n",
    "        \n",
    "        # Evaluate model\n",
    "        val_loss, accuracy, preds, labels = self.evaluate(test_loader, criterion)\n",
    "        \n",
    "        # Calculate metrics\n",
    "        precision, recall, f1, _ = precision_recall_fscore_support(\n",
    "            labels, preds, average='weighted'\n",
    "        )\n",
    "        \n",
    "        metrics = {\n",
    "            'test_loss': val_loss,\n",
    "            'accuracy': accuracy,\n",
    "            'f1': f1,\n",
    "            'precision': precision,\n",
    "            'recall': recall\n",
    "        }\n",
    "        \n",
    "        # Generate and display confusion matrix\n",
    "        cm = confusion_matrix(labels, preds)\n",
    "        label_names = list(self.label_map.keys())\n",
    "        self.visualizer.plot_confusion_matrix(cm, label_names)\n",
    "        \n",
    "        # Print metrics\n",
    "        print(\"\\nPerformance Metrics:\")\n",
    "        print(\"-\" * 40)\n",
    "        for metric, value in metrics.items():\n",
    "            print(f\"{metric}: {value:.4f}\")\n",
    "        \n",
    "        # Save metrics\n",
    "        with open(os.path.join(output_dir, 'metrics.json'), 'w') as f:\n",
    "            json.dump(metrics, f, indent=4)\n",
    "        \n",
    "        return metrics\n",
    "\n",
    "def main():\n",
    "    # Set up output directory for YAMNet\n",
    "    output_dir = \"yamnet_model_output\"\n",
    "    os.makedirs(output_dir, exist_ok=True)\n",
    "    \n",
    "    try:\n",
    "        print(\"Initializing YAMNet classifier...\")\n",
    "        classifier = YAMNetClassifier()\n",
    "        \n",
    "        print(\"\\nPreparing datasets with augmentation...\")\n",
    "        dataset = classifier.prepare_dataset(\n",
    "            \"Split_Data/train\",\n",
    "            \"Split_Data/train_metadata.csv\",\n",
    "            augment=True\n",
    "        )\n",
    "        \n",
    "        # Train with k-fold cross validation\n",
    "        print(\"\\nStarting k-fold cross validation training...\")\n",
    "        metrics = classifier.train_kfold(dataset, output_dir, n_splits=5)\n",
    "        \n",
    "        # Save best model\n",
    "        best_model_path = os.path.join(output_dir, \"best_model\")\n",
    "        classifier.save_model(best_model_path)\n",
    "        print(f\"\\nBest model saved at: {best_model_path}\")\n",
    "        \n",
    "        # Generate performance report on test set\n",
    "        print(\"\\nPreparing test dataset...\")\n",
    "        test_dataset = classifier.prepare_dataset(\n",
    "            \"Split_Data/test\",\n",
    "            \"Split_Data/test_metadata.csv\",\n",
    "            augment=False\n",
    "        )\n",
    "        \n",
    "        print(\"\\nGenerating performance report...\")\n",
    "        test_metrics = classifier.generate_performance_report(test_dataset, output_dir)\n",
    "        \n",
    "    except Exception as e:\n",
    "        print(f\"\\nError during execution: {str(e)}\")\n",
    "        raise\n",
    "\n",
    "if __name__ == \"__main__\":\n",
    "    main()"
   ]
  }
 ],
 "metadata": {
  "kernelspec": {
   "display_name": "tf_env",
   "language": "python",
   "name": "python3"
  },
  "language_info": {
   "codemirror_mode": {
    "name": "ipython",
    "version": 3
   },
   "file_extension": ".py",
   "mimetype": "text/x-python",
   "name": "python",
   "nbconvert_exporter": "python",
   "pygments_lexer": "ipython3",
   "version": "3.10.16"
  }
 },
 "nbformat": 4,
 "nbformat_minor": 2
}
